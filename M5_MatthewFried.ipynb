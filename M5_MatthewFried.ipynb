{
  "nbformat": 4,
  "nbformat_minor": 0,
  "metadata": {
    "colab": {
      "name": "M5_MatthewFried.ipynb",
      "provenance": []
    },
    "kernelspec": {
      "name": "python3",
      "display_name": "Python 3"
    },
    "language_info": {
      "name": "python"
    }
  },
  "cells": [
    {
      "cell_type": "markdown",
      "metadata": {
        "id": "ihV3pzW9hGwu"
      },
      "source": [
        "#Predictive Modeling in Python"
      ]
    },
    {
      "cell_type": "markdown",
      "metadata": {
        "id": "EENmFqZyhOQA"
      },
      "source": [
        "## Numerical Prediction\n",
        "\n",
        "1. Locate, input and clean suitable data.  Find a data set that is suitable for a prediction, impute the values and perform any clean up.\n",
        "\n",
        "2. Construct the following type of predictive models using Python\n",
        " * Linear regression\n",
        " * Gradient boost like xgboost\n",
        " * Some form of decision tree\n",
        " * SVM\n",
        "\n",
        "3. Analyze model performance metrics (RMSE, MAE and R2) and select the best model.  Explain why you selected the model you did"
      ]
    },
    {
      "cell_type": "markdown",
      "metadata": {
        "id": "tHqhifyih-Nn"
      },
      "source": [
        "### Data Set\n",
        "\n",
        "The data set chosen is about heart conditions and death. Here we explain some of the terms which may otherwise be unclear.\n",
        "\n",
        "According to heart.org, **ejection fraction** (EF) is a measurement, expressed as a percentage, of how much blood the left ventricle pumps out with each contraction. An ejection fraction of 60 percent means that 60 percent of the total amount of blood in the left ventricle is pushed out with each heartbeat.\n",
        "\n",
        "This indication of how well your heart is pumping out blood can help to diagnose and track heart failure.\n",
        "\n",
        "And according to Johns Hopkins Lupus Center, **creatine phosphokinase** (a.k.a., creatine kinase, CPK, or CK) is an enzyme (a protein that helps to elicit chemical changes in your body) found in your heart, brain, and skeletal muscles. When muscle tissue is damaged, CPK leaks into your blood. Therefore, high levels of CPK usually indicate some sort of stress or injury to your heart or other muscles. To test CPK, blood is drawn from a vein in your arm.  In the hospital, a person’s CK-MB level is often checked when they exhibit signs of heart attack.\n",
        "\n",
        "And, lastly, a **sodium blood test** (also called a serum sodium test) is a way for your health care provider to measure the amount of sodium in your blood. This test is often part of a group of tests that measure different substances in your blood, including:\n",
        "\n",
        "A basic metabolic panel (BMP) is also called an electrolyte panel or a Chemistry panel or a Chem 7. It checks electrolytes, the acid to base balance of your blood, and blood glucose levels.\n",
        "\n",
        "A comprehensive metabolic panel (CMP) checks electrolytes, but also checks blood protein levels and your liver function.\n",
        "\n",
        "Sodium is key to helping send electrical signals between cells and controlling the amount of fluid in your body. Your body needs it for your cells to work the right way.  Sodium imbalances can be connected to many medical issues.\n"
      ]
    },
    {
      "cell_type": "code",
      "metadata": {
        "id": "fO9eeYLIg7s1"
      },
      "source": [
        "import pandas as pd\n",
        "import math\n",
        "import numpy as np\n",
        "import matplotlib.pyplot as plt\n",
        "import missingno as msno\n",
        "import seaborn as sns\n",
        "from sklearn.metrics import accuracy_score,confusion_matrix, classification_report,roc_auc_score\n",
        "from sklearn.model_selection import train_test_split\n",
        "from sklearn.compose import ColumnTransformer\n",
        "from sklearn.experimental import enable_iterative_imputer\n",
        "from sklearn.impute import IterativeImputer\n",
        "from sklearn.impute import SimpleImputer\n",
        "from sklearn.linear_model import BayesianRidge\n",
        "from sklearn.tree import DecisionTreeRegressor\n",
        "from sklearn.ensemble import ExtraTreesRegressor\n",
        "from sklearn.neighbors import KNeighborsRegressor\n",
        "from sklearn.preprocessing import StandardScaler\n",
        "from sklearn.linear_model import LogisticRegression\n",
        "from sklearn import (ensemble, impute, model_selection, preprocessing, tree)\n",
        "from sklearn.ensemble import RandomForestClassifier\n",
        "from yellowbrick.model_selection import ValidationCurve\n",
        "from sklearn.cluster import KMeans\n",
        "import statsmodels.api as sm\n",
        "from scipy.stats import zscore\n",
        "from sklearn.preprocessing import LabelEncoder, OneHotEncoder \n",
        "from sklearn.tree import DecisionTreeClassifier\n",
        "from collections import defaultdict\n",
        "import pydotplus\n",
        "from sklearn.svm import SVR\n",
        "from sklearn.ensemble import RandomForestRegressor, AdaBoostRegressor, GradientBoostingRegressor\n",
        "import xgboost as xgb\n",
        "from sklearn.metrics import mean_squared_error, mean_absolute_error, r2_score\n",
        "from sklearn.model_selection import KFold, RepeatedKFold\n",
        "from sklearn.feature_selection import f_classif, chi2, mutual_info_classif\n",
        "import collections\n",
        "from sklearn.model_selection import cross_val_score\n",
        "import warnings\n",
        "from sklearn.metrics import confusion_matrix, classification_report \n",
        "from sklearn.metrics import accuracy_score, recall_score, precision_score, f1_score, roc_auc_score, roc_curve\n",
        "from yellowbrick.classifier import ROCAUC\n",
        "from sklearn.impute import KNNImputer\n",
        "from sklearn.model_selection import RepeatedStratifiedKFold\n",
        "from sklearn.pipeline import Pipeline\n",
        "from sklearn.experimental import enable_iterative_imputer\n",
        "from sklearn.impute import IterativeImputer\n",
        "from sklearn.linear_model import LinearRegression"
      ],
      "execution_count": 377,
      "outputs": []
    },
    {
      "cell_type": "code",
      "metadata": {
        "colab": {
          "base_uri": "https://localhost:8080/",
          "height": 223
        },
        "id": "Hc5J2QuDi_Ku",
        "outputId": "559a6020-3805-4a0c-c62c-13fbd4cbc9ae"
      },
      "source": [
        "df_1 = pd.read_csv(\"https://raw.githubusercontent.com/MatthewFried/Udemy/master/Data/Heart%20Data.csv\")\n",
        "\n",
        "#see the data \n",
        "print(\"The shape of the data is: \", df_1.shape)\n",
        "df_1.head()"
      ],
      "execution_count": 378,
      "outputs": [
        {
          "output_type": "stream",
          "name": "stdout",
          "text": [
            "The shape of the data is:  (299, 12)\n"
          ]
        },
        {
          "output_type": "execute_result",
          "data": {
            "text/html": [
              "<div>\n",
              "<style scoped>\n",
              "    .dataframe tbody tr th:only-of-type {\n",
              "        vertical-align: middle;\n",
              "    }\n",
              "\n",
              "    .dataframe tbody tr th {\n",
              "        vertical-align: top;\n",
              "    }\n",
              "\n",
              "    .dataframe thead th {\n",
              "        text-align: right;\n",
              "    }\n",
              "</style>\n",
              "<table border=\"1\" class=\"dataframe\">\n",
              "  <thead>\n",
              "    <tr style=\"text-align: right;\">\n",
              "      <th></th>\n",
              "      <th>age</th>\n",
              "      <th>anemic</th>\n",
              "      <th>creatinine_phosphokinase</th>\n",
              "      <th>diabetes</th>\n",
              "      <th>ejection_fraction</th>\n",
              "      <th>high_blood_pressure</th>\n",
              "      <th>platelets</th>\n",
              "      <th>sodium</th>\n",
              "      <th>sex</th>\n",
              "      <th>smoking</th>\n",
              "      <th>DEATH_EVENT</th>\n",
              "      <th>political stance</th>\n",
              "    </tr>\n",
              "  </thead>\n",
              "  <tbody>\n",
              "    <tr>\n",
              "      <th>0</th>\n",
              "      <td>75.0</td>\n",
              "      <td>0</td>\n",
              "      <td>582.0</td>\n",
              "      <td>0</td>\n",
              "      <td>20</td>\n",
              "      <td>1</td>\n",
              "      <td>265000.00</td>\n",
              "      <td>130</td>\n",
              "      <td>1</td>\n",
              "      <td>0</td>\n",
              "      <td>1</td>\n",
              "      <td>66</td>\n",
              "    </tr>\n",
              "    <tr>\n",
              "      <th>1</th>\n",
              "      <td>55.0</td>\n",
              "      <td>0</td>\n",
              "      <td>7861.0</td>\n",
              "      <td>0</td>\n",
              "      <td>38</td>\n",
              "      <td>0</td>\n",
              "      <td>263358.03</td>\n",
              "      <td>136</td>\n",
              "      <td>1</td>\n",
              "      <td>0</td>\n",
              "      <td>1</td>\n",
              "      <td>91</td>\n",
              "    </tr>\n",
              "    <tr>\n",
              "      <th>2</th>\n",
              "      <td>65.0</td>\n",
              "      <td>0</td>\n",
              "      <td>146.0</td>\n",
              "      <td>0</td>\n",
              "      <td>20</td>\n",
              "      <td>0</td>\n",
              "      <td>162000.00</td>\n",
              "      <td>129</td>\n",
              "      <td>1</td>\n",
              "      <td>1</td>\n",
              "      <td>1</td>\n",
              "      <td>56</td>\n",
              "    </tr>\n",
              "    <tr>\n",
              "      <th>3</th>\n",
              "      <td>50.0</td>\n",
              "      <td>1</td>\n",
              "      <td>111.0</td>\n",
              "      <td>0</td>\n",
              "      <td>20</td>\n",
              "      <td>0</td>\n",
              "      <td>210000.00</td>\n",
              "      <td>137</td>\n",
              "      <td>1</td>\n",
              "      <td>0</td>\n",
              "      <td>1</td>\n",
              "      <td>58</td>\n",
              "    </tr>\n",
              "    <tr>\n",
              "      <th>4</th>\n",
              "      <td>65.0</td>\n",
              "      <td>1</td>\n",
              "      <td>160.0</td>\n",
              "      <td>1</td>\n",
              "      <td>20</td>\n",
              "      <td>0</td>\n",
              "      <td>327000.00</td>\n",
              "      <td>116</td>\n",
              "      <td>0</td>\n",
              "      <td>0</td>\n",
              "      <td>1</td>\n",
              "      <td>58</td>\n",
              "    </tr>\n",
              "  </tbody>\n",
              "</table>\n",
              "</div>"
            ],
            "text/plain": [
              "    age  anemic  ...  DEATH_EVENT  political stance\n",
              "0  75.0       0  ...            1                66\n",
              "1  55.0       0  ...            1                91\n",
              "2  65.0       0  ...            1                56\n",
              "3  50.0       1  ...            1                58\n",
              "4  65.0       1  ...            1                58\n",
              "\n",
              "[5 rows x 12 columns]"
            ]
          },
          "metadata": {},
          "execution_count": 378
        }
      ]
    },
    {
      "cell_type": "code",
      "metadata": {
        "colab": {
          "base_uri": "https://localhost:8080/"
        },
        "id": "8DbXS-k9mhkF",
        "outputId": "d89de6c4-0c3b-4c01-ecc9-aa91ec0b76e4"
      },
      "source": [
        "# display column names, datatype, and non-null values \n",
        "df_1.info()"
      ],
      "execution_count": 379,
      "outputs": [
        {
          "output_type": "stream",
          "name": "stdout",
          "text": [
            "<class 'pandas.core.frame.DataFrame'>\n",
            "RangeIndex: 299 entries, 0 to 298\n",
            "Data columns (total 12 columns):\n",
            " #   Column                    Non-Null Count  Dtype  \n",
            "---  ------                    --------------  -----  \n",
            " 0   age                       299 non-null    float64\n",
            " 1   anemic                    299 non-null    int64  \n",
            " 2   creatinine_phosphokinase  292 non-null    float64\n",
            " 3   diabetes                  299 non-null    int64  \n",
            " 4   ejection_fraction         299 non-null    int64  \n",
            " 5   high_blood_pressure       299 non-null    int64  \n",
            " 6   platelets                 299 non-null    float64\n",
            " 7   sodium                    299 non-null    int64  \n",
            " 8   sex                       299 non-null    int64  \n",
            " 9   smoking                   299 non-null    int64  \n",
            " 10  DEATH_EVENT               299 non-null    int64  \n",
            " 11  political stance          299 non-null    int64  \n",
            "dtypes: float64(3), int64(9)\n",
            "memory usage: 28.2 KB\n"
          ]
        }
      ]
    },
    {
      "cell_type": "code",
      "metadata": {
        "colab": {
          "base_uri": "https://localhost:8080/"
        },
        "id": "o9TZD1PNlO0C",
        "outputId": "1c553806-44a9-49cb-9339-b03b9514dd3b"
      },
      "source": [
        "#check for nulls\n",
        "df_1.isnull().sum()"
      ],
      "execution_count": 380,
      "outputs": [
        {
          "output_type": "execute_result",
          "data": {
            "text/plain": [
              "age                         0\n",
              "anemic                      0\n",
              "creatinine_phosphokinase    7\n",
              "diabetes                    0\n",
              "ejection_fraction           0\n",
              "high_blood_pressure         0\n",
              "platelets                   0\n",
              "sodium                      0\n",
              "sex                         0\n",
              "smoking                     0\n",
              "DEATH_EVENT                 0\n",
              "political stance            0\n",
              "dtype: int64"
            ]
          },
          "metadata": {},
          "execution_count": 380
        }
      ]
    },
    {
      "cell_type": "code",
      "metadata": {
        "colab": {
          "base_uri": "https://localhost:8080/"
        },
        "id": "pOPnG2IClTku",
        "outputId": "d01a87be-c4be-404f-8ed7-e831667e64f3"
      },
      "source": [
        "#List number of unique values\n",
        "#We see this matches with the information that is given about the data\n",
        "df_1.nunique()"
      ],
      "execution_count": 381,
      "outputs": [
        {
          "output_type": "execute_result",
          "data": {
            "text/plain": [
              "age                          47\n",
              "anemic                        2\n",
              "creatinine_phosphokinase    206\n",
              "diabetes                      2\n",
              "ejection_fraction            17\n",
              "high_blood_pressure           3\n",
              "platelets                   176\n",
              "sodium                       30\n",
              "sex                           2\n",
              "smoking                       2\n",
              "DEATH_EVENT                   2\n",
              "political stance             95\n",
              "dtype: int64"
            ]
          },
          "metadata": {},
          "execution_count": 381
        }
      ]
    },
    {
      "cell_type": "code",
      "metadata": {
        "colab": {
          "base_uri": "https://localhost:8080/"
        },
        "id": "An08oCpGlVcG",
        "outputId": "2709ef30-2262-48c3-c29c-963b5eb7af63"
      },
      "source": [
        "#check the values that have few possibilities to makes sure they make sense\n",
        "vals = df_1[['anemic',\t'diabetes',\t'high_blood_pressure',\t'sex',\t'smoking',\t'DEATH_EVENT']].copy()\n",
        "for x in range(len(vals.columns)):\n",
        "    print(vals.columns[x] + \":\")\n",
        "    print(vals[vals.columns[x]].unique())\n",
        "    print(\"\")"
      ],
      "execution_count": 382,
      "outputs": [
        {
          "output_type": "stream",
          "name": "stdout",
          "text": [
            "anemic:\n",
            "[0 1]\n",
            "\n",
            "diabetes:\n",
            "[0 1]\n",
            "\n",
            "high_blood_pressure:\n",
            "[ 1  0 10]\n",
            "\n",
            "sex:\n",
            "[1 0]\n",
            "\n",
            "smoking:\n",
            "[0 1]\n",
            "\n",
            "DEATH_EVENT:\n",
            "[1 0]\n",
            "\n"
          ]
        }
      ]
    },
    {
      "cell_type": "markdown",
      "metadata": {
        "id": "ruyGUL-AlxG-"
      },
      "source": [
        "We see that the high blood pressure has an error, since according to our data it should only be a yes or no question.  We will fix this."
      ]
    },
    {
      "cell_type": "code",
      "metadata": {
        "id": "F6fO1gqmY6Un"
      },
      "source": [
        "df_1['high_blood_pressure'] = df_1['high_blood_pressure'].replace(10,np.NaN)"
      ],
      "execution_count": 383,
      "outputs": []
    },
    {
      "cell_type": "code",
      "metadata": {
        "colab": {
          "base_uri": "https://localhost:8080/",
          "height": 606
        },
        "id": "xT9vBisHl89K",
        "outputId": "f18256c5-94a7-4b50-a019-12cf9f2c6427"
      },
      "source": [
        "#histograms\n",
        "df_1.hist(bins=50, figsize=(15,10))\n",
        "plt.show()"
      ],
      "execution_count": 384,
      "outputs": [
        {
          "output_type": "display_data",
          "data": {
            "image/png": "[encoded data removed]",
            "text/plain": [
              "<Figure size 1080x720 with 12 Axes>"
            ]
          },
          "metadata": {
            "needs_background": "light"
          }
        }
      ]
    },
    {
      "cell_type": "code",
      "metadata": {
        "colab": {
          "base_uri": "https://localhost:8080/",
          "height": 709
        },
        "id": "xLwR5_hwmyHi",
        "outputId": "56d71636-2380-4565-9d05-e8bb371e463a"
      },
      "source": [
        "#define a figure to which we will add boxplots of each attribute.\n",
        "plt.figure(figsize=(10,15))\n",
        "\n",
        "#use an index to identify the spot of the subplot\n",
        "j=1\n",
        "columns=df_1.columns.tolist()\n",
        "for k in columns[2:] :   #for each column in the dataframe\n",
        "    plt.subplot(5,3,j) \n",
        "    sns.boxplot(x=k,data=df_1)\n",
        "    j=j+1 #add 1 to go to the next subplot space\n",
        "\n",
        "#show results\n",
        "plt.show()"
      ],
      "execution_count": 385,
      "outputs": [
        {
          "output_type": "display_data",
          "data": {
            "image/png": "[encoded data removed]",
            "text/plain": [
              "<Figure size 720x1080 with 10 Axes>"
            ]
          },
          "metadata": {
            "needs_background": "light"
          }
        }
      ]
    },
    {
      "cell_type": "markdown",
      "metadata": {
        "id": "M9smYfC_nJOV"
      },
      "source": [
        "We note from the above that sodium has negative values, so we convert them to the absolute value."
      ]
    },
    {
      "cell_type": "code",
      "metadata": {
        "colab": {
          "base_uri": "https://localhost:8080/",
          "height": 206
        },
        "id": "HJociK8hnPPZ",
        "outputId": "f56d9928-96f7-4fba-a432-de675ff7a52f"
      },
      "source": [
        "#get the absolute values of the new data frame to get rid of the negative values\n",
        "df_1=df_1.abs().copy()\n",
        "df_1.head()"
      ],
      "execution_count": 386,
      "outputs": [
        {
          "output_type": "execute_result",
          "data": {
            "text/html": [
              "<div>\n",
              "<style scoped>\n",
              "    .dataframe tbody tr th:only-of-type {\n",
              "        vertical-align: middle;\n",
              "    }\n",
              "\n",
              "    .dataframe tbody tr th {\n",
              "        vertical-align: top;\n",
              "    }\n",
              "\n",
              "    .dataframe thead th {\n",
              "        text-align: right;\n",
              "    }\n",
              "</style>\n",
              "<table border=\"1\" class=\"dataframe\">\n",
              "  <thead>\n",
              "    <tr style=\"text-align: right;\">\n",
              "      <th></th>\n",
              "      <th>age</th>\n",
              "      <th>anemic</th>\n",
              "      <th>creatinine_phosphokinase</th>\n",
              "      <th>diabetes</th>\n",
              "      <th>ejection_fraction</th>\n",
              "      <th>high_blood_pressure</th>\n",
              "      <th>platelets</th>\n",
              "      <th>sodium</th>\n",
              "      <th>sex</th>\n",
              "      <th>smoking</th>\n",
              "      <th>DEATH_EVENT</th>\n",
              "      <th>political stance</th>\n",
              "    </tr>\n",
              "  </thead>\n",
              "  <tbody>\n",
              "    <tr>\n",
              "      <th>0</th>\n",
              "      <td>75.0</td>\n",
              "      <td>0.0</td>\n",
              "      <td>582.0</td>\n",
              "      <td>0.0</td>\n",
              "      <td>20.0</td>\n",
              "      <td>1.0</td>\n",
              "      <td>265000.00</td>\n",
              "      <td>130.0</td>\n",
              "      <td>1.0</td>\n",
              "      <td>0.0</td>\n",
              "      <td>1.0</td>\n",
              "      <td>66.0</td>\n",
              "    </tr>\n",
              "    <tr>\n",
              "      <th>1</th>\n",
              "      <td>55.0</td>\n",
              "      <td>0.0</td>\n",
              "      <td>7861.0</td>\n",
              "      <td>0.0</td>\n",
              "      <td>38.0</td>\n",
              "      <td>0.0</td>\n",
              "      <td>263358.03</td>\n",
              "      <td>136.0</td>\n",
              "      <td>1.0</td>\n",
              "      <td>0.0</td>\n",
              "      <td>1.0</td>\n",
              "      <td>91.0</td>\n",
              "    </tr>\n",
              "    <tr>\n",
              "      <th>2</th>\n",
              "      <td>65.0</td>\n",
              "      <td>0.0</td>\n",
              "      <td>146.0</td>\n",
              "      <td>0.0</td>\n",
              "      <td>20.0</td>\n",
              "      <td>0.0</td>\n",
              "      <td>162000.00</td>\n",
              "      <td>129.0</td>\n",
              "      <td>1.0</td>\n",
              "      <td>1.0</td>\n",
              "      <td>1.0</td>\n",
              "      <td>56.0</td>\n",
              "    </tr>\n",
              "    <tr>\n",
              "      <th>3</th>\n",
              "      <td>50.0</td>\n",
              "      <td>1.0</td>\n",
              "      <td>111.0</td>\n",
              "      <td>0.0</td>\n",
              "      <td>20.0</td>\n",
              "      <td>0.0</td>\n",
              "      <td>210000.00</td>\n",
              "      <td>137.0</td>\n",
              "      <td>1.0</td>\n",
              "      <td>0.0</td>\n",
              "      <td>1.0</td>\n",
              "      <td>58.0</td>\n",
              "    </tr>\n",
              "    <tr>\n",
              "      <th>4</th>\n",
              "      <td>65.0</td>\n",
              "      <td>1.0</td>\n",
              "      <td>160.0</td>\n",
              "      <td>1.0</td>\n",
              "      <td>20.0</td>\n",
              "      <td>0.0</td>\n",
              "      <td>327000.00</td>\n",
              "      <td>116.0</td>\n",
              "      <td>0.0</td>\n",
              "      <td>0.0</td>\n",
              "      <td>1.0</td>\n",
              "      <td>58.0</td>\n",
              "    </tr>\n",
              "  </tbody>\n",
              "</table>\n",
              "</div>"
            ],
            "text/plain": [
              "    age  anemic  ...  DEATH_EVENT  political stance\n",
              "0  75.0     0.0  ...          1.0              66.0\n",
              "1  55.0     0.0  ...          1.0              91.0\n",
              "2  65.0     0.0  ...          1.0              56.0\n",
              "3  50.0     1.0  ...          1.0              58.0\n",
              "4  65.0     1.0  ...          1.0              58.0\n",
              "\n",
              "[5 rows x 12 columns]"
            ]
          },
          "metadata": {},
          "execution_count": 386
        }
      ]
    },
    {
      "cell_type": "markdown",
      "metadata": {
        "id": "ZNT43qNLnZd2"
      },
      "source": [
        "### Imputation\n",
        "\n",
        "In order to get rid of our NaNs and missing values we will impute. We will use several different types of imputers and see how well they work. Since running so many models against every change will be cumbersome for readers to follow, we will endeavor to alleviate this burden by noting that the below charts show that with only seven missing values, any of these methods are effectively equivalent.  Here we check imputations with Bayes, KNN, DecisionTreeRegressor, and ExtraTreesRegressor."
      ]
    },
    {
      "cell_type": "code",
      "metadata": {
        "colab": {
          "base_uri": "https://localhost:8080/",
          "height": 483
        },
        "id": "dCU4mBjHJ95m",
        "outputId": "b80d818e-4dfe-4e57-f9f5-b608c55d1bd6"
      },
      "source": [
        "TARGET = df_1['DEATH_EVENT']\n",
        "variables = df_1.columns.values\n",
        "X_train, X_test, y_train, y_test = train_test_split(df_1.drop('DEATH_EVENT', axis=1), df_1['DEATH_EVENT'], test_size=0.3, random_state=0)\n",
        "\n",
        "imputer_bayes = IterativeImputer(estimator=BayesianRidge(),max_iter=10,random_state=0)\n",
        "imputer_knn = IterativeImputer(estimator=KNeighborsRegressor(n_neighbors=5), max_iter=10, random_state=0)\n",
        "imputer_nonLin = IterativeImputer(estimator=DecisionTreeRegressor(max_features='sqrt', random_state=0), max_iter=10, random_state=0)\n",
        "imputer_missForest = IterativeImputer( estimator=ExtraTreesRegressor(n_estimators=10, random_state=0), max_iter=10, random_state=0)\n",
        "\n",
        "imputer_bayes.fit(X_train)\n",
        "imputer_knn.fit(X_train)\n",
        "imputer_nonLin.fit(X_train)\n",
        "imputer_missForest.fit(X_train)\n",
        "\n",
        "X_train_bayes = imputer_bayes.transform(X_train)\n",
        "X_train_knn = imputer_knn.transform(X_train)\n",
        "X_train_nonLin = imputer_nonLin.transform(X_train)\n",
        "X_train_missForest = imputer_missForest.transform(X_train)\n",
        "\n",
        "predictors = [var for var in variables if var !='DEATH_EVENT']\n",
        "X_train_bayes = pd.DataFrame(X_train_bayes, columns = predictors)\n",
        "X_train_knn = pd.DataFrame(X_train_knn, columns = predictors)\n",
        "X_train_nonLin = pd.DataFrame(X_train_nonLin, columns = predictors)\n",
        "X_train_missForest = pd.DataFrame(X_train_missForest, columns = predictors)\n",
        "\n",
        "fig = plt.figure()\n",
        "ax = fig.add_subplot(111)\n",
        "\n",
        "X_train_bayes['creatinine_phosphokinase'].plot(kind='kde', ax=ax, color='green')\n",
        "X_train_knn['creatinine_phosphokinase'].plot(kind='kde', ax=ax, color='red')\n",
        "X_train_nonLin['creatinine_phosphokinase'].plot(kind='kde', ax=ax, color='black')\n",
        "X_train_missForest['creatinine_phosphokinase'].plot(kind='kde', ax=ax, color='orange')\n",
        "\n",
        "# add legends\n",
        "lines, labels = ax.get_legend_handles_labels()\n",
        "labels = ['Bayes', 'Knn', 'Trees', 'MissForest']\n",
        "ax.legend(lines, labels, loc='best')\n",
        "fig.set_size_inches(8,8)\n",
        "plt.show()"
      ],
      "execution_count": 387,
      "outputs": [
        {
          "output_type": "display_data",
          "data": {
            "image/png": "[encoded data removed]",
            "text/plain": [
              "<Figure size 576x576 with 1 Axes>"
            ]
          },
          "metadata": {
            "needs_background": "light"
          }
        }
      ]
    },
    {
      "cell_type": "code",
      "metadata": {
        "colab": {
          "base_uri": "https://localhost:8080/",
          "height": 206
        },
        "id": "-m4L3rGmSq62",
        "outputId": "2ca85407-ea21-43bf-d192-c36035358322"
      },
      "source": [
        "#choose one of the options (the default iterative imputer which is bayesian ridge)\n",
        "from sklearn.experimental import enable_iterative_imputer\n",
        "from sklearn.impute import IterativeImputer\n",
        "# impute missing values\n",
        "imp = IterativeImputer()\n",
        "imp.fit(df_1)\n",
        "II_df = imp.transform(df_1)\n",
        "II_df = pd.DataFrame(II_df, columns=df_1.columns)\n",
        "df_1 = II_df\n",
        "df_1[\"DEATH_EVENT\"] = TARGET\n",
        "df_1.head()"
      ],
      "execution_count": 388,
      "outputs": [
        {
          "output_type": "execute_result",
          "data": {
            "text/html": [
              "<div>\n",
              "<style scoped>\n",
              "    .dataframe tbody tr th:only-of-type {\n",
              "        vertical-align: middle;\n",
              "    }\n",
              "\n",
              "    .dataframe tbody tr th {\n",
              "        vertical-align: top;\n",
              "    }\n",
              "\n",
              "    .dataframe thead th {\n",
              "        text-align: right;\n",
              "    }\n",
              "</style>\n",
              "<table border=\"1\" class=\"dataframe\">\n",
              "  <thead>\n",
              "    <tr style=\"text-align: right;\">\n",
              "      <th></th>\n",
              "      <th>age</th>\n",
              "      <th>anemic</th>\n",
              "      <th>creatinine_phosphokinase</th>\n",
              "      <th>diabetes</th>\n",
              "      <th>ejection_fraction</th>\n",
              "      <th>high_blood_pressure</th>\n",
              "      <th>platelets</th>\n",
              "      <th>sodium</th>\n",
              "      <th>sex</th>\n",
              "      <th>smoking</th>\n",
              "      <th>DEATH_EVENT</th>\n",
              "      <th>political stance</th>\n",
              "    </tr>\n",
              "  </thead>\n",
              "  <tbody>\n",
              "    <tr>\n",
              "      <th>0</th>\n",
              "      <td>75.0</td>\n",
              "      <td>0.0</td>\n",
              "      <td>582.0</td>\n",
              "      <td>0.0</td>\n",
              "      <td>20.0</td>\n",
              "      <td>1.0</td>\n",
              "      <td>265000.00</td>\n",
              "      <td>130.0</td>\n",
              "      <td>1.0</td>\n",
              "      <td>0.0</td>\n",
              "      <td>1.0</td>\n",
              "      <td>66.0</td>\n",
              "    </tr>\n",
              "    <tr>\n",
              "      <th>1</th>\n",
              "      <td>55.0</td>\n",
              "      <td>0.0</td>\n",
              "      <td>7861.0</td>\n",
              "      <td>0.0</td>\n",
              "      <td>38.0</td>\n",
              "      <td>0.0</td>\n",
              "      <td>263358.03</td>\n",
              "      <td>136.0</td>\n",
              "      <td>1.0</td>\n",
              "      <td>0.0</td>\n",
              "      <td>1.0</td>\n",
              "      <td>91.0</td>\n",
              "    </tr>\n",
              "    <tr>\n",
              "      <th>2</th>\n",
              "      <td>65.0</td>\n",
              "      <td>0.0</td>\n",
              "      <td>146.0</td>\n",
              "      <td>0.0</td>\n",
              "      <td>20.0</td>\n",
              "      <td>0.0</td>\n",
              "      <td>162000.00</td>\n",
              "      <td>129.0</td>\n",
              "      <td>1.0</td>\n",
              "      <td>1.0</td>\n",
              "      <td>1.0</td>\n",
              "      <td>56.0</td>\n",
              "    </tr>\n",
              "    <tr>\n",
              "      <th>3</th>\n",
              "      <td>50.0</td>\n",
              "      <td>1.0</td>\n",
              "      <td>111.0</td>\n",
              "      <td>0.0</td>\n",
              "      <td>20.0</td>\n",
              "      <td>0.0</td>\n",
              "      <td>210000.00</td>\n",
              "      <td>137.0</td>\n",
              "      <td>1.0</td>\n",
              "      <td>0.0</td>\n",
              "      <td>1.0</td>\n",
              "      <td>58.0</td>\n",
              "    </tr>\n",
              "    <tr>\n",
              "      <th>4</th>\n",
              "      <td>65.0</td>\n",
              "      <td>1.0</td>\n",
              "      <td>160.0</td>\n",
              "      <td>1.0</td>\n",
              "      <td>20.0</td>\n",
              "      <td>0.0</td>\n",
              "      <td>327000.00</td>\n",
              "      <td>116.0</td>\n",
              "      <td>0.0</td>\n",
              "      <td>0.0</td>\n",
              "      <td>1.0</td>\n",
              "      <td>58.0</td>\n",
              "    </tr>\n",
              "  </tbody>\n",
              "</table>\n",
              "</div>"
            ],
            "text/plain": [
              "    age  anemic  ...  DEATH_EVENT  political stance\n",
              "0  75.0     0.0  ...          1.0              66.0\n",
              "1  55.0     0.0  ...          1.0              91.0\n",
              "2  65.0     0.0  ...          1.0              56.0\n",
              "3  50.0     1.0  ...          1.0              58.0\n",
              "4  65.0     1.0  ...          1.0              58.0\n",
              "\n",
              "[5 rows x 12 columns]"
            ]
          },
          "metadata": {},
          "execution_count": 388
        }
      ]
    },
    {
      "cell_type": "code",
      "metadata": {
        "colab": {
          "base_uri": "https://localhost:8080/",
          "height": 883
        },
        "id": "3MvzGQ9HkGoz",
        "outputId": "8c2bd38b-c10c-4b71-d7d6-d4e7f122a6e2"
      },
      "source": [
        "#create a correlation chart\n",
        "corr = df_1.corr()\n",
        "fig, ax = plt.subplots(figsize = (15, 13))\n",
        "sns.heatmap(corr, annot=True)"
      ],
      "execution_count": 389,
      "outputs": [
        {
          "output_type": "execute_result",
          "data": {
            "text/plain": [
              "<matplotlib.axes._subplots.AxesSubplot at 0x7f749e79ff90>"
            ]
          },
          "metadata": {},
          "execution_count": 389
        },
        {
          "output_type": "display_data",
          "data": {
            "image/png": "[encoded data removed]",
            "text/plain": [
              "<Figure size 1080x936 with 2 Axes>"
            ]
          },
          "metadata": {
            "needs_background": "light"
          }
        }
      ]
    },
    {
      "cell_type": "markdown",
      "metadata": {
        "id": "WlJHVNkNLprf"
      },
      "source": [
        "Normalizing data\n",
        "\n",
        "In order to compare apples apples, we normalize the data that is not boolean."
      ]
    },
    {
      "cell_type": "code",
      "metadata": {
        "colab": {
          "base_uri": "https://localhost:8080/",
          "height": 206
        },
        "id": "WbJwsSFOLvTT",
        "outputId": "88606ebd-db98-452c-d5d5-4dfc58eeee69"
      },
      "source": [
        "data_subset = df_1[['age','anemic','creatinine_phosphokinase','ejection_fraction','high_blood_pressure','platelets','sodium','political stance']]\n",
        "data_subset = (data_subset-data_subset.mean())/data_subset.std()\n",
        "df_1[['age','anemic','creatinine_phosphokinase','ejection_fraction','high_blood_pressure','platelets','sodium','political stance']] = data_subset[['age','anemic','creatinine_phosphokinase','ejection_fraction','high_blood_pressure','platelets','sodium','political stance']]\n",
        "df_1.head()"
      ],
      "execution_count": 390,
      "outputs": [
        {
          "output_type": "execute_result",
          "data": {
            "text/html": [
              "<div>\n",
              "<style scoped>\n",
              "    .dataframe tbody tr th:only-of-type {\n",
              "        vertical-align: middle;\n",
              "    }\n",
              "\n",
              "    .dataframe tbody tr th {\n",
              "        vertical-align: top;\n",
              "    }\n",
              "\n",
              "    .dataframe thead th {\n",
              "        text-align: right;\n",
              "    }\n",
              "</style>\n",
              "<table border=\"1\" class=\"dataframe\">\n",
              "  <thead>\n",
              "    <tr style=\"text-align: right;\">\n",
              "      <th></th>\n",
              "      <th>age</th>\n",
              "      <th>anemic</th>\n",
              "      <th>creatinine_phosphokinase</th>\n",
              "      <th>diabetes</th>\n",
              "      <th>ejection_fraction</th>\n",
              "      <th>high_blood_pressure</th>\n",
              "      <th>platelets</th>\n",
              "      <th>sodium</th>\n",
              "      <th>sex</th>\n",
              "      <th>smoking</th>\n",
              "      <th>DEATH_EVENT</th>\n",
              "      <th>political stance</th>\n",
              "    </tr>\n",
              "  </thead>\n",
              "  <tbody>\n",
              "    <tr>\n",
              "      <th>0</th>\n",
              "      <td>1.190949</td>\n",
              "      <td>-0.869647</td>\n",
              "      <td>-0.007718</td>\n",
              "      <td>0.0</td>\n",
              "      <td>-1.527998</td>\n",
              "      <td>1.355651</td>\n",
              "      <td>1.678834e-02</td>\n",
              "      <td>-1.501519</td>\n",
              "      <td>1.0</td>\n",
              "      <td>0.0</td>\n",
              "      <td>1.0</td>\n",
              "      <td>0.678435</td>\n",
              "    </tr>\n",
              "    <tr>\n",
              "      <th>1</th>\n",
              "      <td>-0.490457</td>\n",
              "      <td>-0.869647</td>\n",
              "      <td>7.508397</td>\n",
              "      <td>0.0</td>\n",
              "      <td>-0.007065</td>\n",
              "      <td>-0.737700</td>\n",
              "      <td>7.523047e-09</td>\n",
              "      <td>-0.141739</td>\n",
              "      <td>1.0</td>\n",
              "      <td>0.0</td>\n",
              "      <td>1.0</td>\n",
              "      <td>1.638364</td>\n",
              "    </tr>\n",
              "    <tr>\n",
              "      <th>2</th>\n",
              "      <td>0.350246</td>\n",
              "      <td>-0.869647</td>\n",
              "      <td>-0.457921</td>\n",
              "      <td>0.0</td>\n",
              "      <td>-1.527998</td>\n",
              "      <td>-0.737700</td>\n",
              "      <td>-1.036336e+00</td>\n",
              "      <td>-1.728149</td>\n",
              "      <td>1.0</td>\n",
              "      <td>1.0</td>\n",
              "      <td>1.0</td>\n",
              "      <td>0.294464</td>\n",
              "    </tr>\n",
              "    <tr>\n",
              "      <th>3</th>\n",
              "      <td>-0.910808</td>\n",
              "      <td>1.146046</td>\n",
              "      <td>-0.494061</td>\n",
              "      <td>0.0</td>\n",
              "      <td>-1.527998</td>\n",
              "      <td>-0.737700</td>\n",
              "      <td>-5.455595e-01</td>\n",
              "      <td>0.084892</td>\n",
              "      <td>1.0</td>\n",
              "      <td>0.0</td>\n",
              "      <td>1.0</td>\n",
              "      <td>0.371258</td>\n",
              "    </tr>\n",
              "    <tr>\n",
              "      <th>4</th>\n",
              "      <td>0.350246</td>\n",
              "      <td>1.146046</td>\n",
              "      <td>-0.443465</td>\n",
              "      <td>1.0</td>\n",
              "      <td>-1.527998</td>\n",
              "      <td>-0.737700</td>\n",
              "      <td>6.507077e-01</td>\n",
              "      <td>-4.674340</td>\n",
              "      <td>0.0</td>\n",
              "      <td>0.0</td>\n",
              "      <td>1.0</td>\n",
              "      <td>0.371258</td>\n",
              "    </tr>\n",
              "  </tbody>\n",
              "</table>\n",
              "</div>"
            ],
            "text/plain": [
              "        age    anemic  ...  DEATH_EVENT  political stance\n",
              "0  1.190949 -0.869647  ...          1.0          0.678435\n",
              "1 -0.490457 -0.869647  ...          1.0          1.638364\n",
              "2  0.350246 -0.869647  ...          1.0          0.294464\n",
              "3 -0.910808  1.146046  ...          1.0          0.371258\n",
              "4  0.350246  1.146046  ...          1.0          0.371258\n",
              "\n",
              "[5 rows x 12 columns]"
            ]
          },
          "metadata": {},
          "execution_count": 390
        }
      ]
    },
    {
      "cell_type": "code",
      "metadata": {
        "id": "r15YozHGkYoO"
      },
      "source": [
        "#designate dependent and independent variables\n",
        "\n",
        "y = df_1['DEATH_EVENT']\n",
        "y = y.to_numpy()\n",
        "X = df_1.drop([\"DEATH_EVENT\"],axis = 1).to_numpy()\n",
        "y = y.reshape(-1, 1)"
      ],
      "execution_count": 391,
      "outputs": []
    },
    {
      "cell_type": "code",
      "metadata": {
        "colab": {
          "base_uri": "https://localhost:8080/"
        },
        "id": "DmUDgsltkU5P",
        "outputId": "e89f20a2-3f4f-4fbc-ab3d-17e554f4b40e"
      },
      "source": [
        "#create a regression function\n",
        "from sklearn.linear_model import LinearRegression\n",
        "from sklearn.metrics import r2_score, mean_squared_error\n",
        "\n",
        "def regressionFunc(X,Y):\n",
        "  X_train, x_test, y_train, y_test = train_test_split(X, Y, test_size=0.2)\n",
        "  \n",
        "  #set up the regression\n",
        "  lm = LinearRegression()\n",
        "  lm.fit(X_train, y_train)\n",
        "\n",
        "  #let's now see how it performs on test data\n",
        "  y_pred = lm.predict(x_test)\n",
        "\n",
        "  #find the r-sqaure by testing on the training data\n",
        "  r2 = r2_score(y_test,y_pred)\n",
        "  mae = mean_absolute_error(y_test, y_pred)\n",
        "  rmse = math.sqrt(mean_squared_error(y_test,y_pred)) \n",
        "  print(\"R-square:\\t\", r2)\n",
        "  print(\"MAE:\\t\", mae)\n",
        "  print(\"RMSE:\\t\", rmse)\n",
        "\n",
        "regressionFunc(X,y)"
      ],
      "execution_count": 392,
      "outputs": [
        {
          "output_type": "stream",
          "name": "stdout",
          "text": [
            "R-square:\t 0.5271318680050356\n",
            "MAE:\t 0.2682183148360654\n",
            "RMSE:\t 0.32416324145404285\n"
          ]
        }
      ]
    },
    {
      "cell_type": "markdown",
      "metadata": {
        "id": "VOs9PaGlk6NK"
      },
      "source": [
        "A second regression model using statsmodel.  Here we just check we are on target, even without the train_test_split we did above."
      ]
    },
    {
      "cell_type": "code",
      "metadata": {
        "colab": {
          "base_uri": "https://localhost:8080/"
        },
        "id": "ZRSszjfDlAyd",
        "outputId": "600726df-be68-46eb-b714-bf6728b3dbb8"
      },
      "source": [
        "import numpy as np\n",
        "import statsmodels.api as sm\n",
        "from scipy import stats\n",
        "from scipy.stats import t\n",
        "from math import sqrt\n",
        "\n",
        "\n",
        "def _OLS(X,y):\n",
        "  #we will use statsmodel, which requires an extra column of 1's, which we add\n",
        "  X = sm.add_constant(X)\n",
        "  \n",
        "  #use the OLS model to print results\n",
        "  results = sm.OLS(y, X).fit()\n",
        "  print(results.summary())\n",
        "\n",
        "_OLS(X,y)"
      ],
      "execution_count": 393,
      "outputs": [
        {
          "output_type": "stream",
          "name": "stdout",
          "text": [
            "                            OLS Regression Results                            \n",
            "==============================================================================\n",
            "Dep. Variable:                      y   R-squared:                       0.554\n",
            "Model:                            OLS   Adj. R-squared:                  0.537\n",
            "Method:                 Least Squares   F-statistic:                     32.46\n",
            "Date:                Mon, 18 Oct 2021   Prob (F-statistic):           3.19e-44\n",
            "Time:                        04:18:26   Log-Likelihood:                -75.674\n",
            "No. Observations:                 299   AIC:                             175.3\n",
            "Df Residuals:                     287   BIC:                             219.8\n",
            "Df Model:                          11                                         \n",
            "Covariance Type:            nonrobust                                         \n",
            "==============================================================================\n",
            "                 coef    std err          t      P>|t|      [0.025      0.975]\n",
            "------------------------------------------------------------------------------\n",
            "const          0.3381      0.038      8.997      0.000       0.264       0.412\n",
            "x1             0.0673      0.019      3.505      0.001       0.029       0.105\n",
            "x2             0.0109      0.019      0.573      0.567      -0.027       0.048\n",
            "x3             0.0170      0.019      0.891      0.374      -0.021       0.055\n",
            "x4             0.0111      0.038      0.290      0.772      -0.064       0.087\n",
            "x5            -0.0741      0.019     -3.839      0.000      -0.112      -0.036\n",
            "x6             0.0239      0.019      1.277      0.203      -0.013       0.061\n",
            "x7             0.0088      0.019      0.468      0.640      -0.028       0.046\n",
            "x8            -0.0093      0.019     -0.481      0.631      -0.047       0.029\n",
            "x9            -0.0210      0.045     -0.471      0.638      -0.109       0.067\n",
            "x10           -0.0252      0.045     -0.565      0.573      -0.113       0.063\n",
            "x11            0.3043      0.020     15.448      0.000       0.266       0.343\n",
            "==============================================================================\n",
            "Omnibus:                       17.541   Durbin-Watson:                   1.522\n",
            "Prob(Omnibus):                  0.000   Jarque-Bera (JB):                7.038\n",
            "Skew:                           0.009   Prob(JB):                       0.0296\n",
            "Kurtosis:                       2.249   Cond. No.                         4.20\n",
            "==============================================================================\n",
            "\n",
            "Warnings:\n",
            "[1] Standard Errors assume that the covariance matrix of the errors is correctly specified.\n"
          ]
        }
      ]
    },
    {
      "cell_type": "markdown",
      "metadata": {
        "id": "yYw4Jcw8JBIo"
      },
      "source": [
        "### Interpretation\n",
        "\n",
        "* R-squared: It represents the “percentage variation in dependent that is explained by independent variables”. The drawback to the R-squared is that it increases as the number of predictors(dependent variables) increase. Therefore, it becomes inconclusive in case when it is to be decided whether additional variable is adding to the predictability power of the regression.\n",
        "\n",
        "* Prob(F-Statistic): This tells the overall significance of the regression. This is to assess the significance level of all the variables together unlike the t-statistic that measures it for individual variables. The null hypothesis under this is “all the regression coefficients are equal to zero”. Prob(F-statistics) depicts the probability of null hypothesis being true. As per the above results, probability is not close to zero. This implies that overall the regressions is not meaningful.\n",
        "\n",
        "* AIC/BIC: It stands for Akaike’s Information Criteria and is used for model selection. It penalizes the errors mode in case a new variable is added to the regression equation. It is calculated as number of parameters minus the likelihood of the overall model. A lower AIC implies a better model. Whereas, BIC stands for Bayesian information criteria and is a variant of AIC where penalties are made more severe.  We can see that the BIC is quite high, whereas it should preferably be lower.\n",
        "\n",
        "* Prob(Omnibus): One of the assumptions of OLS is that the errors are normally distributed. Omnibus test is performed in order to check this. Here, the null hypothesis is that the errors are normally distributed. Prob(Omnibus) is supposed to be close to the 1 in order for it to satisfy the OLS assumption. In our model we see that this is not the case. As such something is wrong with our model.\n",
        "\n",
        "* A small p-value (typically ≤ 0.05) indicates strong evidence against the null hypothesis, so you reject the null hypothesis. A large p-value (> 0.05) indicates weak evidence against the null hypothesis, so you fail to reject the null hypothesis.  Here we have relatively large p-values, so we fail to reject the null hypothesis.  Thus we assume normality of the data."
      ]
    },
    {
      "cell_type": "markdown",
      "metadata": {
        "id": "vzGVRUgWhwAB"
      },
      "source": [
        "Gradient Boost Regressor"
      ]
    },
    {
      "cell_type": "code",
      "metadata": {
        "colab": {
          "base_uri": "https://localhost:8080/"
        },
        "id": "n1U8NZCYQ1ws",
        "outputId": "80a3b6ca-2356-47b5-afd7-ab20cb4e969d"
      },
      "source": [
        "import xgboost as xg\n",
        "  \n",
        "xgboost_r = xg.XGBRegressor(objective ='reg:squarederror', n_estimators = 10, seed = 42)\n",
        "xgboost_r.fit(train_X, train_y)\n",
        "pred = xgboost_r.predict(test_X)\n",
        "  \n",
        "# RMSE Computation\n",
        "rmse = np.sqrt(mean_squared_error(test_y, pred))\n",
        "print(\"RMSE: \",rmse)\n",
        "print(\"MAE\", mean_absolute_error(test_y, pred))\n",
        "print(\"R_2: \", r2_score(test_y, pred))"
      ],
      "execution_count": 394,
      "outputs": [
        {
          "output_type": "stream",
          "name": "stdout",
          "text": [
            "RMSE:  0.3171036208425794\n",
            "MAE 0.2730424765083525\n",
            "R_2:  0.5846541961004884\n"
          ]
        }
      ]
    },
    {
      "cell_type": "markdown",
      "metadata": {
        "id": "bYF4h9evjcgJ"
      },
      "source": [
        "Decision Tree Regressor"
      ]
    },
    {
      "cell_type": "code",
      "metadata": {
        "id": "3AYiSy2ojek1"
      },
      "source": [
        "rt = DecisionTreeRegressor(criterion = 'mse', max_depth=5)\n",
        "model_r = rt.fit(train_X, train_y)\n",
        "pred = model_r.predict(test_X)"
      ],
      "execution_count": 395,
      "outputs": []
    },
    {
      "cell_type": "code",
      "metadata": {
        "colab": {
          "base_uri": "https://localhost:8080/"
        },
        "id": "25lim8cTjqNg",
        "outputId": "1e7a5132-724b-49d1-c85c-ccc57dbdb03a"
      },
      "source": [
        "rmse = np.sqrt(mean_squared_error(test_y, pred))\n",
        "print(\"RMSE: \",rmse)\n",
        "print(\"MAE\", mean_absolute_error(test_y, pred))\n",
        "print(\"R_2: \", r2_score(test_y, pred))"
      ],
      "execution_count": 396,
      "outputs": [
        {
          "output_type": "stream",
          "name": "stdout",
          "text": [
            "RMSE:  0.3406119959129416\n",
            "MAE 0.1469640852974186\n",
            "R_2:  0.5207884205740123\n"
          ]
        }
      ]
    },
    {
      "cell_type": "markdown",
      "metadata": {
        "id": "9_dJp4UDlnHB"
      },
      "source": [
        "SVM "
      ]
    },
    {
      "cell_type": "code",
      "metadata": {
        "colab": {
          "base_uri": "https://localhost:8080/"
        },
        "id": "PKKhzJcQloPV",
        "outputId": "593a6cce-2426-44c3-8920-0f2b41c77c67"
      },
      "source": [
        "from sklearn.svm import SVC\n",
        "\n",
        "y = df_1['DEATH_EVENT']\n",
        "y = y.to_numpy()\n",
        "train_X, test_X, train_y, test_y = train_test_split(X, y, test_size = 0.3, random_state = 42)\n",
        "\n",
        "linear_svm = SVC(kernel='linear')\n",
        "linear_svm.fit(train_X, train_y)\n",
        "pred = linear_svm.predict(test_X)\n",
        "\n",
        "rmse = np.sqrt(mean_squared_error(test_y, pred))\n",
        "print(\"RMSE: \",rmse)\n",
        "print(\"MAE\", mean_absolute_error(test_y, pred))\n",
        "print(\"R_2: \", r2_score(test_y, pred))"
      ],
      "execution_count": 397,
      "outputs": [
        {
          "output_type": "stream",
          "name": "stdout",
          "text": [
            "RMSE:  0.39440531887330776\n",
            "MAE 0.15555555555555556\n",
            "R_2:  0.35747067822539524\n"
          ]
        }
      ]
    },
    {
      "cell_type": "markdown",
      "metadata": {
        "id": "24GBkj9-n7Sl"
      },
      "source": [
        "### Model Choice\n",
        "\n",
        "I have found that the XGBoost is the best model, giving the highest r^2, a reasonable RMSE, and a comparable MAE.  As such, I choose that model."
      ]
    },
    {
      "cell_type": "markdown",
      "metadata": {
        "id": "uVTW9ZZ2pXI7"
      },
      "source": [
        "## Yes/No Prediction\n",
        "\n",
        "1. Locate, input and clean suitable data. Find a second data set that is suitable for a yes/no (logistic) prediction, impute the data and perform any clean up.\n",
        "\n",
        "2. Construct at least 3 different logistic models using Python\n",
        " * Binary Logistic Regression\n",
        " * Multinomial Logistic Regression\n",
        " * Ordinal Logistic Regression\n",
        "\n",
        "3. Analyze model performance metrics (AUC, ROC, Confusion Matrix) and select the best logistic model and explain why you selected the model you did"
      ]
    },
    {
      "cell_type": "markdown",
      "metadata": {
        "id": "0pYU9qeHtjOy"
      },
      "source": [
        "Note that Business Segment can be either Landscaping and Area Beautification, which is a 0, or Maintenance and Repair, which is a 1.  We will use this column for the Binary Logistic Regression.\n",
        "\n",
        "The Political Affiliation column will be used for the nominal data, on the spectrum of 1 - conservative, 2 - extremely conservative, 3 - libertarian, 4 - no affiliation, 5 - other.\n",
        "\n",
        "And the Survey Happiness column is data that is ordinal based on how the transaction went."
      ]
    },
    {
      "cell_type": "code",
      "metadata": {
        "colab": {
          "base_uri": "https://localhost:8080/",
          "height": 365
        },
        "id": "ACweXEMqtcHa",
        "outputId": "42efcfa4-b58f-4f9f-ebd7-86f78507c016"
      },
      "source": [
        "df_2 = pd.read_csv('https://raw.githubusercontent.com/MatthewFried/Udemy/master/Data/SAMPLE_1.csv')\n",
        "df_2.head()"
      ],
      "execution_count": 411,
      "outputs": [
        {
          "output_type": "execute_result",
          "data": {
            "text/html": [
              "<div>\n",
              "<style scoped>\n",
              "    .dataframe tbody tr th:only-of-type {\n",
              "        vertical-align: middle;\n",
              "    }\n",
              "\n",
              "    .dataframe tbody tr th {\n",
              "        vertical-align: top;\n",
              "    }\n",
              "\n",
              "    .dataframe thead th {\n",
              "        text-align: right;\n",
              "    }\n",
              "</style>\n",
              "<table border=\"1\" class=\"dataframe\">\n",
              "  <thead>\n",
              "    <tr style=\"text-align: right;\">\n",
              "      <th></th>\n",
              "      <th>Region</th>\n",
              "      <th>Market</th>\n",
              "      <th>Branch_Number</th>\n",
              "      <th>Customer_Number</th>\n",
              "      <th>Customer_Name</th>\n",
              "      <th>City</th>\n",
              "      <th>State</th>\n",
              "      <th>Product_Number</th>\n",
              "      <th>Product_Description</th>\n",
              "      <th>Business_Segment</th>\n",
              "      <th>Service_Date</th>\n",
              "      <th>Invoice_Number</th>\n",
              "      <th>Invoice_Date</th>\n",
              "      <th>Sales_Amount</th>\n",
              "      <th>Contracted Hours</th>\n",
              "      <th>Sales_Period</th>\n",
              "      <th>Sales_Rep</th>\n",
              "      <th>Political Affiliation</th>\n",
              "      <th>Survey Happiness</th>\n",
              "    </tr>\n",
              "  </thead>\n",
              "  <tbody>\n",
              "    <tr>\n",
              "      <th>0</th>\n",
              "      <td>WEST</td>\n",
              "      <td>CALIFORNIA</td>\n",
              "      <td>803717</td>\n",
              "      <td>962713</td>\n",
              "      <td>GALACK Corp.</td>\n",
              "      <td>PETALUMA</td>\n",
              "      <td>CA</td>\n",
              "      <td>87000</td>\n",
              "      <td>Landscaping/Grounds Care</td>\n",
              "      <td>0</td>\n",
              "      <td>39286</td>\n",
              "      <td>27985</td>\n",
              "      <td>39289</td>\n",
              "      <td>197.95</td>\n",
              "      <td>2</td>\n",
              "      <td>P08</td>\n",
              "      <td>5060</td>\n",
              "      <td>2</td>\n",
              "      <td>5</td>\n",
              "    </tr>\n",
              "    <tr>\n",
              "      <th>1</th>\n",
              "      <td>WEST</td>\n",
              "      <td>CALIFORNIA</td>\n",
              "      <td>803717</td>\n",
              "      <td>962704</td>\n",
              "      <td>PUUALA Corp.</td>\n",
              "      <td>PETALUMA</td>\n",
              "      <td>CA</td>\n",
              "      <td>87000</td>\n",
              "      <td>Landscaping/Grounds Care</td>\n",
              "      <td>0</td>\n",
              "      <td>39286</td>\n",
              "      <td>27986</td>\n",
              "      <td>39289</td>\n",
              "      <td>197.95</td>\n",
              "      <td>2</td>\n",
              "      <td>P08</td>\n",
              "      <td>5060</td>\n",
              "      <td>1</td>\n",
              "      <td>3</td>\n",
              "    </tr>\n",
              "    <tr>\n",
              "      <th>2</th>\n",
              "      <td>WEST</td>\n",
              "      <td>CALIFORNIA</td>\n",
              "      <td>803717</td>\n",
              "      <td>962864</td>\n",
              "      <td>RACHS Corp.</td>\n",
              "      <td>PETALUMA</td>\n",
              "      <td>CA</td>\n",
              "      <td>70700</td>\n",
              "      <td>Predictive Maintenance/Preventative Maintenance</td>\n",
              "      <td>1</td>\n",
              "      <td>39286</td>\n",
              "      <td>28066</td>\n",
              "      <td>39289</td>\n",
              "      <td>191.28</td>\n",
              "      <td>3</td>\n",
              "      <td>P08</td>\n",
              "      <td>5060</td>\n",
              "      <td>4</td>\n",
              "      <td>4</td>\n",
              "    </tr>\n",
              "    <tr>\n",
              "      <th>3</th>\n",
              "      <td>NORTH</td>\n",
              "      <td>CANADA</td>\n",
              "      <td>940581</td>\n",
              "      <td>964910</td>\n",
              "      <td>VALLUE Corp.</td>\n",
              "      <td>ST ALBAN</td>\n",
              "      <td>PQ</td>\n",
              "      <td>87000</td>\n",
              "      <td>Landscaping/Grounds Care</td>\n",
              "      <td>0</td>\n",
              "      <td>39388</td>\n",
              "      <td>143519</td>\n",
              "      <td>39389</td>\n",
              "      <td>240.07</td>\n",
              "      <td>4</td>\n",
              "      <td>P11</td>\n",
              "      <td>44651</td>\n",
              "      <td>3</td>\n",
              "      <td>1</td>\n",
              "    </tr>\n",
              "    <tr>\n",
              "      <th>4</th>\n",
              "      <td>NORTH</td>\n",
              "      <td>CANADA</td>\n",
              "      <td>940581</td>\n",
              "      <td>2928848</td>\n",
              "      <td>CMVLC Corp.</td>\n",
              "      <td>QUEBEC</td>\n",
              "      <td>PQ</td>\n",
              "      <td>70700</td>\n",
              "      <td>Predictive Maintenance/Preventative Maintenance</td>\n",
              "      <td>1</td>\n",
              "      <td>39303</td>\n",
              "      <td>154865</td>\n",
              "      <td>39304</td>\n",
              "      <td>147.22</td>\n",
              "      <td>2</td>\n",
              "      <td>P08</td>\n",
              "      <td>160410</td>\n",
              "      <td>1</td>\n",
              "      <td>3</td>\n",
              "    </tr>\n",
              "  </tbody>\n",
              "</table>\n",
              "</div>"
            ],
            "text/plain": [
              "  Region      Market  ...  Political Affiliation  Survey Happiness\n",
              "0   WEST  CALIFORNIA  ...                      2                 5\n",
              "1   WEST  CALIFORNIA  ...                      1                 3\n",
              "2   WEST  CALIFORNIA  ...                      4                 4\n",
              "3  NORTH      CANADA  ...                      3                 1\n",
              "4  NORTH      CANADA  ...                      1                 3\n",
              "\n",
              "[5 rows x 19 columns]"
            ]
          },
          "metadata": {},
          "execution_count": 411
        }
      ]
    },
    {
      "cell_type": "code",
      "metadata": {
        "colab": {
          "base_uri": "https://localhost:8080/"
        },
        "id": "ZAlsUkR4vfCH",
        "outputId": "e46edb5e-d652-45ef-8eea-7b0413d4893a"
      },
      "source": [
        "df_2.nunique()"
      ],
      "execution_count": 412,
      "outputs": [
        {
          "output_type": "execute_result",
          "data": {
            "text/plain": [
              "Region                     4\n",
              "Market                    14\n",
              "Branch_Number             39\n",
              "Customer_Number          173\n",
              "Customer_Name            162\n",
              "City                     139\n",
              "State                     27\n",
              "Product_Number             6\n",
              "Product_Description        6\n",
              "Business_Segment           2\n",
              "Service_Date             116\n",
              "Invoice_Number           201\n",
              "Invoice_Date             110\n",
              "Sales_Amount              84\n",
              "Contracted Hours           5\n",
              "Sales_Period              13\n",
              "Sales_Rep                112\n",
              "Political Affiliation      5\n",
              "Survey Happiness           5\n",
              "dtype: int64"
            ]
          },
          "metadata": {},
          "execution_count": 412
        }
      ]
    },
    {
      "cell_type": "code",
      "metadata": {
        "colab": {
          "base_uri": "https://localhost:8080/",
          "height": 606
        },
        "id": "ukL6b-4rvs-M",
        "outputId": "3a4ef3bd-f81e-442e-e7e9-a1db8f409979"
      },
      "source": [
        "#histograms\n",
        "df_2.hist(bins=50, figsize=(15,10))\n",
        "plt.show()"
      ],
      "execution_count": 413,
      "outputs": [
        {
          "output_type": "display_data",
          "data": {
            "image/png": "[encoded data removed]",
            "text/plain": [
              "<Figure size 1080x720 with 12 Axes>"
            ]
          },
          "metadata": {
            "needs_background": "light"
          }
        }
      ]
    },
    {
      "cell_type": "markdown",
      "metadata": {
        "id": "W8jg13_8wVDw"
      },
      "source": [
        "It seems that our data does not have nulls, anomolies, or major outliers (unlike the previous data set), as such, there is nothing to impute and we will continue with our analysis."
      ]
    },
    {
      "cell_type": "code",
      "metadata": {
        "colab": {
          "base_uri": "https://localhost:8080/"
        },
        "id": "8u6q03a3udH6",
        "outputId": "bce6545b-69ca-43d5-eb0a-017559db1931"
      },
      "source": [
        "# display column names, datatype, and non-null values \n",
        "df_2.info()"
      ],
      "execution_count": 414,
      "outputs": [
        {
          "output_type": "stream",
          "name": "stdout",
          "text": [
            "<class 'pandas.core.frame.DataFrame'>\n",
            "RangeIndex: 202 entries, 0 to 201\n",
            "Data columns (total 19 columns):\n",
            " #   Column                 Non-Null Count  Dtype  \n",
            "---  ------                 --------------  -----  \n",
            " 0   Region                 202 non-null    object \n",
            " 1   Market                 202 non-null    object \n",
            " 2   Branch_Number          202 non-null    int64  \n",
            " 3   Customer_Number        202 non-null    int64  \n",
            " 4   Customer_Name          202 non-null    object \n",
            " 5   City                   202 non-null    object \n",
            " 6   State                  202 non-null    object \n",
            " 7   Product_Number         202 non-null    int64  \n",
            " 8   Product_Description    202 non-null    object \n",
            " 9   Business_Segment       202 non-null    int64  \n",
            " 10  Service_Date           202 non-null    int64  \n",
            " 11  Invoice_Number         202 non-null    int64  \n",
            " 12  Invoice_Date           202 non-null    int64  \n",
            " 13  Sales_Amount           202 non-null    float64\n",
            " 14  Contracted Hours       202 non-null    int64  \n",
            " 15  Sales_Period           202 non-null    object \n",
            " 16  Sales_Rep              202 non-null    int64  \n",
            " 17  Political Affiliation  202 non-null    int64  \n",
            " 18  Survey Happiness       202 non-null    int64  \n",
            "dtypes: float64(1), int64(11), object(7)\n",
            "memory usage: 30.1+ KB\n"
          ]
        }
      ]
    },
    {
      "cell_type": "code",
      "metadata": {
        "id": "nPitIQJYywND"
      },
      "source": [
        "#do lable encoding\n",
        "\n",
        "from sklearn import preprocessing\n",
        " \n",
        "label_encoder = preprocessing.LabelEncoder()\n",
        "df_2['Region']= label_encoder.fit_transform(df_2['Region'])\n",
        "df_2['Market']= label_encoder.fit_transform(df_2['Market'])\n",
        "df_2['Customer_Name']= label_encoder.fit_transform(df_2['Customer_Name'])\n",
        "df_2['City']= label_encoder.fit_transform(df_2['City'])\n",
        "df_2['State']= label_encoder.fit_transform(df_2['State'])\n",
        "df_2['Product_Description']= label_encoder.fit_transform(df_2['Product_Description'])\n",
        "df_2['Contracted Hours']= label_encoder.fit_transform(df_2['Contracted Hours'])\n",
        "df_2['Sales_Period']= label_encoder.fit_transform(df_2['Sales_Period'])"
      ],
      "execution_count": 415,
      "outputs": []
    },
    {
      "cell_type": "markdown",
      "metadata": {
        "id": "KVkyog0dwf8N"
      },
      "source": [
        "Binary Logistic Regression"
      ]
    },
    {
      "cell_type": "code",
      "metadata": {
        "colab": {
          "base_uri": "https://localhost:8080/",
          "height": 301
        },
        "id": "hyhhrY3iwi0q",
        "outputId": "5a15abd2-501e-4883-d157-e96a0ad4a77f"
      },
      "source": [
        "y = df_2['Business_Segment'].to_numpy()\n",
        "X = df_2.drop(['Business_Segment'],axis = 1).to_numpy()\n",
        "\n",
        "X_train,X_test,y_train,y_test = train_test_split(X,y,test_size=0.25,random_state=0)\n",
        "logistic_regression= LogisticRegression()\n",
        "logistic_regression.fit(X_train,y_train)\n",
        "y_pred=logistic_regression.predict(X_test)\n",
        "\n",
        "confusion_matrix = pd.crosstab(y_test, y_pred, rownames=['Actual'], colnames=['Predicted'])\n",
        "sns.heatmap(confusion_matrix, annot=True)\n",
        "\n",
        "print('Accuracy: ', accuracy_score(y_test, y_pred))\n",
        "plt.show()"
      ],
      "execution_count": 428,
      "outputs": [
        {
          "output_type": "stream",
          "name": "stdout",
          "text": [
            "Accuracy:  1.0\n"
          ]
        },
        {
          "output_type": "display_data",
          "data": {
            "image/png": "[encoded data removed]",
            "text/plain": [
              "<Figure size 432x288 with 2 Axes>"
            ]
          },
          "metadata": {
            "needs_background": "light"
          }
        }
      ]
    },
    {
      "cell_type": "markdown",
      "metadata": {
        "id": "y9fTKHwp4PHu"
      },
      "source": [
        "I'm not sure what is wrong with the data that I am getting such an output, but my guess is that the sample could be too small at 200 datapoints."
      ]
    },
    {
      "cell_type": "code",
      "metadata": {
        "colab": {
          "base_uri": "https://localhost:8080/"
        },
        "id": "mEkxecou2GMk",
        "outputId": "34dafa80-ec44-446a-9d68-12a36477db72"
      },
      "source": [
        "#import the function from sklearn\n",
        "from sklearn.metrics import classification_report\n",
        "\n",
        "#apply the function to the dataset and check results\n",
        "print(classification_report(y_test, y_pred))"
      ],
      "execution_count": 429,
      "outputs": [
        {
          "output_type": "stream",
          "name": "stdout",
          "text": [
            "              precision    recall  f1-score   support\n",
            "\n",
            "           0       1.00      1.00      1.00        16\n",
            "           1       1.00      1.00      1.00        35\n",
            "\n",
            "    accuracy                           1.00        51\n",
            "   macro avg       1.00      1.00      1.00        51\n",
            "weighted avg       1.00      1.00      1.00        51\n",
            "\n"
          ]
        }
      ]
    },
    {
      "cell_type": "code",
      "metadata": {
        "colab": {
          "base_uri": "https://localhost:8080/",
          "height": 279
        },
        "id": "XnIg8L0w3P-O",
        "outputId": "3292c6d5-94a6-4591-cf34-93c13655d805"
      },
      "source": [
        "y_pred_proba = y_pred\n",
        "fpr, tpr, _ = roc_curve(y_test,  y_pred_proba)\n",
        "\n",
        "#create ROC curve\n",
        "plt.plot(fpr,tpr)\n",
        "plt.ylabel('True Positive Rate')\n",
        "plt.xlabel('False Positive Rate')\n",
        "plt.show()"
      ],
      "execution_count": 434,
      "outputs": [
        {
          "output_type": "display_data",
          "data": {
            "image/png": "[encoded data removed]",
            "text/plain": [
              "<Figure size 432x288 with 1 Axes>"
            ]
          },
          "metadata": {
            "needs_background": "light"
          }
        }
      ]
    },
    {
      "cell_type": "code",
      "metadata": {
        "colab": {
          "base_uri": "https://localhost:8080/",
          "height": 279
        },
        "id": "JFDVZ2_B3z36",
        "outputId": "ecc9a4ea-082f-4818-d3e5-cf26751ff5c3"
      },
      "source": [
        "auc = roc_auc_score(y_test, y_pred_proba)\n",
        "\n",
        "#create AUC curve\n",
        "plt.plot(fpr,tpr,label=\"AUC=\"+str(auc))\n",
        "plt.ylabel('True Positive Rate')\n",
        "plt.xlabel('False Positive Rate')\n",
        "plt.legend(loc=4)\n",
        "plt.show()"
      ],
      "execution_count": 436,
      "outputs": [
        {
          "output_type": "display_data",
          "data": {
            "image/png": "[encoded data removed]",
            "text/plain": [
              "<Figure size 432x288 with 1 Axes>"
            ]
          },
          "metadata": {
            "needs_background": "light"
          }
        }
      ]
    },
    {
      "cell_type": "markdown",
      "metadata": {
        "id": "4_gB9ZSt4hVe"
      },
      "source": [
        "Multinomial Logistic Regression"
      ]
    },
    {
      "cell_type": "code",
      "metadata": {
        "colab": {
          "base_uri": "https://localhost:8080/",
          "height": 335
        },
        "id": "euqu9dxH4nn3",
        "outputId": "afd6da50-87d3-4f0b-a4bb-4ba59ef46bef"
      },
      "source": [
        "y = df_2['Political Affiliation'].to_numpy()\n",
        "X = df_2.drop(['Political Affiliation'],axis = 1).to_numpy()\n",
        "\n",
        "X_train,X_test,y_train,y_test = train_test_split(X,y,test_size=0.25,random_state=0)\n",
        "logistic_regression= LogisticRegression(solver='newton-cg', multi_class='multinomial')\n",
        "logistic_regression.fit(X_train,y_train)\n",
        "y_pred=logistic_regression.predict(X_test)\n",
        "\n",
        "confusion_matrix = pd.crosstab(y_test, y_pred, rownames=['Actual'], colnames=['Predicted'])\n",
        "sns.heatmap(confusion_matrix, annot=True)\n",
        "\n",
        "print('Accuracy: ', accuracy_score(y_test, y_pred))\n",
        "plt.show()"
      ],
      "execution_count": 437,
      "outputs": [
        {
          "output_type": "stream",
          "name": "stderr",
          "text": [
            "/usr/local/lib/python3.7/dist-packages/sklearn/utils/optimize.py:212: ConvergenceWarning: newton-cg failed to converge. Increase the number of iterations.\n",
            "  \"number of iterations.\", ConvergenceWarning)\n"
          ]
        },
        {
          "output_type": "stream",
          "name": "stdout",
          "text": [
            "Accuracy:  0.2549019607843137\n"
          ]
        },
        {
          "output_type": "display_data",
          "data": {
            "image/png": "[encoded data removed]",
            "text/plain": [
              "<Figure size 432x288 with 2 Axes>"
            ]
          },
          "metadata": {
            "needs_background": "light"
          }
        }
      ]
    },
    {
      "cell_type": "code",
      "metadata": {
        "colab": {
          "base_uri": "https://localhost:8080/"
        },
        "id": "JS2oP6DA5PFo",
        "outputId": "70a108f5-34b9-4234-d57c-324b5c0aafe8"
      },
      "source": [
        "#import the function from sklearn\n",
        "from sklearn.metrics import classification_report\n",
        "\n",
        "#apply the function to the dataset and check results\n",
        "print(classification_report(y_test, y_pred))"
      ],
      "execution_count": 438,
      "outputs": [
        {
          "output_type": "stream",
          "name": "stdout",
          "text": [
            "              precision    recall  f1-score   support\n",
            "\n",
            "           1       0.50      0.11      0.18        18\n",
            "           2       0.00      0.00      0.00         5\n",
            "           3       0.29      0.57      0.38         7\n",
            "           4       0.31      0.50      0.38         8\n",
            "           5       0.25      0.23      0.24        13\n",
            "\n",
            "    accuracy                           0.25        51\n",
            "   macro avg       0.27      0.28      0.24        51\n",
            "weighted avg       0.33      0.25      0.24        51\n",
            "\n"
          ]
        }
      ]
    },
    {
      "cell_type": "markdown",
      "metadata": {
        "id": "9BDz3_DM5iFd"
      },
      "source": [
        "It seems that there is no straightforward or even meaningful way to calculate multiclass formats for AUC and ROC (possibly due to the number of dimensions involved) in Python.  As such, I will skip this for this and the next model."
      ]
    },
    {
      "cell_type": "markdown",
      "metadata": {
        "id": "XHlT0REy50R-"
      },
      "source": [
        "Ordinal Logistic Regression"
      ]
    },
    {
      "cell_type": "code",
      "metadata": {
        "colab": {
          "base_uri": "https://localhost:8080/"
        },
        "id": "SRyQ53ce7YDv",
        "outputId": "95132189-19c0-478e-bbcb-f2863ac815aa"
      },
      "source": [
        "!pip install mord"
      ],
      "execution_count": 443,
      "outputs": [
        {
          "output_type": "stream",
          "name": "stdout",
          "text": [
            "Collecting mord\n",
            "  Downloading mord-0.6.tar.gz (4.7 kB)\n",
            "Building wheels for collected packages: mord\n",
            "  Building wheel for mord (setup.py) ... \u001b[?25l\u001b[?25hdone\n",
            "  Created wheel for mord: filename=mord-0.6-py3-none-any.whl size=6006 sha256=3b49bd1000123e5f90062650dec6ad3fb26b2eab0600f6d48924e9c60c03f230\n",
            "  Stored in directory: /root/.cache/pip/wheels/80/1d/8a/bef1a01b6a3c91494905d161d5426c181819f9730a773141eb\n",
            "Successfully built mord\n",
            "Installing collected packages: mord\n",
            "Successfully installed mord-0.6\n"
          ]
        }
      ]
    },
    {
      "cell_type": "code",
      "metadata": {
        "colab": {
          "base_uri": "https://localhost:8080/",
          "height": 297
        },
        "id": "ilClX44Y5zla",
        "outputId": "a386977c-9d76-4f92-b227-5a2acd19d14f"
      },
      "source": [
        "y = df_2['Survey Happiness'].to_numpy()\n",
        "X = df_2.drop(['Survey Happiness'],axis = 1).to_numpy()\n",
        "\n",
        "import mord\n",
        "\n",
        "X_train,X_test,y_train,y_test = train_test_split(X,y,test_size=0.25,random_state=0)\n",
        "mul_lr = mord.OrdinalRidge(alpha=1.0,fit_intercept=True, normalize=False,copy_X=True, max_iter=None,tol=0.001, solver='auto').fit(X_train, y_train)\n",
        "\n",
        "y_pred = mul_lr.predict(X_test)\n",
        "\n",
        "confusion_matrix = pd.crosstab(y_test, y_pred, rownames=['Actual'], colnames=['Predicted'])\n",
        "sns.heatmap(confusion_matrix, annot=True)\n",
        "\n",
        "print('Accuracy: ', accuracy_score(y_test, y_pred))\n",
        "plt.show()"
      ],
      "execution_count": 444,
      "outputs": [
        {
          "output_type": "stream",
          "name": "stdout",
          "text": [
            "Accuracy:  0.21568627450980393\n"
          ]
        },
        {
          "output_type": "display_data",
          "data": {
            "image/png": "[encoded data removed]",
            "text/plain": [
              "<Figure size 432x288 with 2 Axes>"
            ]
          },
          "metadata": {
            "needs_background": "light"
          }
        }
      ]
    },
    {
      "cell_type": "markdown",
      "metadata": {
        "id": "SdnlWG7j7xFY"
      },
      "source": [
        "Since the three models aren't really comparable, because a logistic model used on binary data is not the same as on ordinal or nominal data, there isn't a reasonable comparison here. As such, each model is what it is."
      ]
    },
    {
      "cell_type": "markdown",
      "metadata": {
        "id": "wWqgIGlH7-bg"
      },
      "source": [
        "## Clustering\n",
        "\n",
        "1. Use your Part A or Part B dataset\n",
        "\n",
        "2. Create a cluster model. You do not need to employ multiple algorithms here. Just explain what approach you used.\n",
        "\n",
        "3. Explain the clusters and what you can learn from them."
      ]
    },
    {
      "cell_type": "markdown",
      "metadata": {
        "id": "pD1ONrAr-MYN"
      },
      "source": [
        "Here we implement k-means and do all the necessary work to see if we can isolate the proper k value to optimize our data.\n",
        "\n",
        "The K-Means algorithm is one of the fastest clustering algorithms, but also one of the simplest (as per this [book](https://github.com/ageron/handson-ml2/blob/master/09_unsupervised_learning.ipynb): \n",
        "1. First initialize $k$ centroids randomly: $k$ distinct instances are chosen randomly from the dataset and the centroids are placed at their locations. \n",
        "2. Repeat until convergence (i.e., until the centroids stop moving)\n",
        "3. Assign each instance to the closest centroid.\n",
        "4. Update the centroids to be the mean of the instances that are assigned to them.\n",
        "\n",
        "Here we use the basis of the code from [MLPR](https://github.com/mattharrison/ml_pocket_reference/blob/master/ch18.ipynb).  \n",
        "\n",
        "Metrics we will be analyzing include: \n",
        "1. Inertia: It tells how far away the points within a cluster are. Therefore, a small amount of inertia is aimed for. The range of inertia’s value starts from zero and go up.\n",
        "2. Silhouette score: This tells how far away the datapoints in one cluster are, from the datapoints in another cluster. The range of silhouette score is from -1 to 1. Score should be closer to 1 than -1."
      ]
    },
    {
      "cell_type": "code",
      "metadata": {
        "colab": {
          "base_uri": "https://localhost:8080/",
          "height": 307
        },
        "id": "pxLby0db-MBM",
        "outputId": "5c8dae12-88f3-4094-9ccf-70f2d16826da"
      },
      "source": [
        "from sklearn.cluster import KMeans\n",
        "km = KMeans(2, random_state=42)\n",
        "km.fit(X)\n",
        "X_km = km.predict(X)\n",
        "inertias = []\n",
        "sizes = range(2, 12)\n",
        "for k in sizes:\n",
        "    k2 = KMeans(random_state=42, n_clusters=k)\n",
        "    k2.fit(X)\n",
        "    inertias.append(k2.inertia_)\n",
        "fig, ax = plt.subplots(figsize=(6, 4))\n",
        "pd.Series(inertias, index=sizes).plot(ax=ax)\n",
        "ax.set_xlabel(\"K\")\n",
        "ax.set_ylabel(\"Inertia\")"
      ],
      "execution_count": 445,
      "outputs": [
        {
          "output_type": "execute_result",
          "data": {
            "text/plain": [
              "Text(0, 0.5, 'Inertia')"
            ]
          },
          "metadata": {},
          "execution_count": 445
        },
        {
          "output_type": "display_data",
          "data": {
            "image/png": "[encoded data removed]",
            "text/plain": [
              "<Figure size 432x288 with 1 Axes>"
            ]
          },
          "metadata": {
            "needs_background": "light"
          }
        }
      ]
    },
    {
      "cell_type": "code",
      "metadata": {
        "colab": {
          "base_uri": "https://localhost:8080/",
          "height": 377
        },
        "id": "P22Gs6DN-Zn-",
        "outputId": "08ba4d18-2829-41f3-f2d0-9ada59ed8a24"
      },
      "source": [
        "from sklearn import metrics\n",
        "import warnings\n",
        "warnings.filterwarnings('ignore')\n",
        "inertias = []\n",
        "sils = []\n",
        "chs = []\n",
        "dbs = []\n",
        "sizes = range(2, 12)\n",
        "for k in sizes:\n",
        "    k2 = KMeans(random_state=42, n_clusters=k)\n",
        "    k2.fit(X)\n",
        "    inertias.append(k2.inertia_)\n",
        "    sils.append(\n",
        "        metrics.silhouette_score(X, k2.labels_)\n",
        "    )\n",
        "    chs.append(\n",
        "        metrics.calinski_harabasz_score(\n",
        "            X, k2.labels_\n",
        "        )\n",
        "    )\n",
        "    dbs.append(\n",
        "        metrics.davies_bouldin_score(\n",
        "            X, k2.labels_\n",
        "        )\n",
        "    )\n",
        "fig, ax = plt.subplots(figsize=(6, 4))\n",
        "(\n",
        "    pd.DataFrame(\n",
        "        {\n",
        "            \"inertia\": inertias,\n",
        "            \"silhouette\": sils,\n",
        "            \"calinski\": chs,\n",
        "            \"davies\": dbs,\n",
        "            \"k\": sizes,\n",
        "        }\n",
        "    )\n",
        "    .set_index(\"k\")\n",
        "    .plot(ax=ax, subplots=True, layout=(2, 2))\n",
        ")"
      ],
      "execution_count": 446,
      "outputs": [
        {
          "output_type": "execute_result",
          "data": {
            "text/plain": [
              "array([[<matplotlib.axes._subplots.AxesSubplot object at 0x7f749e4d5950>,\n",
              "        <matplotlib.axes._subplots.AxesSubplot object at 0x7f749e525d50>],\n",
              "       [<matplotlib.axes._subplots.AxesSubplot object at 0x7f749e4df310>,\n",
              "        <matplotlib.axes._subplots.AxesSubplot object at 0x7f749e60a890>]],\n",
              "      dtype=object)"
            ]
          },
          "metadata": {},
          "execution_count": 446
        },
        {
          "output_type": "display_data",
          "data": {
            "image/png": "[encoded data removed]",
            "text/plain": [
              "<Figure size 432x288 with 4 Axes>"
            ]
          },
          "metadata": {
            "needs_background": "light"
          }
        }
      ]
    },
    {
      "cell_type": "markdown",
      "metadata": {
        "id": "hkXpChgk-hP4"
      },
      "source": [
        "We see from our analysis that the inertia \"elbow\" should be around 3.\n",
        "\n",
        "The Davies-Bouldin score evaluates intra-cluster similarity and inter-cluster differences.  It is a validation metric that is  used in order to evaluate the optimal number of clusters. It is defined as a ratio between the cluster scatter and the cluster’s separation.  A lower value means that the clustering is better.  Here the lowest value is at 2.  The Calinksi method is  highest at 10 - which, all seems to indicate that although k of 2 is the a good solution, the data out to be exlpored further."
      ]
    },
    {
      "cell_type": "code",
      "metadata": {
        "id": "OYJGQF67-gQU"
      },
      "source": [
        ""
      ],
      "execution_count": null,
      "outputs": []
    }
  ]
}