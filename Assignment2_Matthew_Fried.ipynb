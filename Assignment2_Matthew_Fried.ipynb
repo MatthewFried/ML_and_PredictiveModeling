{
  "nbformat": 4,
  "nbformat_minor": 0,
  "metadata": {
    "colab": {
      "name": "Assignment2_Matthew_Fried.ipynb",
      "provenance": [],
      "collapsed_sections": []
    },
    "kernelspec": {
      "name": "python3",
      "display_name": "Python 3"
    },
    "language_info": {
      "name": "python"
    }
  },
  "cells": [
    {
      "cell_type": "markdown",
      "metadata": {
        "id": "aCPWQHYdIgvu"
      },
      "source": [
        "# Problem 1: Random Forest Classifier\n",
        "\n",
        "## Breast Cancer Data"
      ]
    },
    {
      "cell_type": "code",
      "metadata": {
        "id": "34_Rhq8FIe8b"
      },
      "source": [
        "#load libraries\n",
        "from sklearn.datasets import load_breast_cancer\n",
        "import numpy as np\n",
        "from sklearn.datasets import make_classification\n",
        "from sklearn.model_selection import cross_val_score\n",
        "from sklearn.model_selection import RepeatedStratifiedKFold\n",
        "from sklearn.ensemble import RandomForestClassifier\n",
        "import matplotlib.pyplot as plt\n",
        "import pandas as pd\n",
        "from sklearn.model_selection import train_test_split\n",
        "from mlxtend.plotting import plot_decision_regions\n",
        "from sklearn.metrics import accuracy_score"
      ],
      "execution_count": 1,
      "outputs": []
    },
    {
      "cell_type": "code",
      "metadata": {
        "id": "IxSfLLH6baSL"
      },
      "source": [
        "cancer = load_breast_cancer()\n",
        "df = pd.DataFrame(np.c_[cancer['data'], cancer['target']],columns= np.append(cancer['feature_names'], ['target']))\n",
        "\n",
        "X = df.drop('target', axis=1)\n",
        "y = df['target']\n",
        "\n",
        "X_train, X_test, y_train, y_test = train_test_split(X, y, test_size=0.3, random_state=1)"
      ],
      "execution_count": null,
      "outputs": []
    },
    {
      "cell_type": "markdown",
      "metadata": {
        "id": "sJjc8Ko2xdOm"
      },
      "source": [
        "* **Number\tof\tsamples**: your\tmodel\tshould\tbe\ttrained\twith\tdifferent\tnumber\tof\t\n",
        "samples by\tadding\t10%\tof\tsamples\teach\ttime"
      ]
    },
    {
      "cell_type": "code",
      "metadata": {
        "colab": {
          "base_uri": "https://localhost:8080/",
          "height": 1000
        },
        "id": "BfVhaX4mkdQO",
        "outputId": "b05a1e78-1aff-46da-9c5d-0dd49c4a59b1"
      },
      "source": [
        "results_training, results_testing = [], []\n",
        "for i in np.arange(0.1, 1, 0.1):\n",
        "  \n",
        "  #define model\n",
        "  model = RandomForestClassifier(max_samples=i).fit(X,y)\n",
        "  \n",
        "  # define the evaluation procedure\n",
        "  cv = RepeatedStratifiedKFold(n_splits=10, n_repeats=3, random_state=1)\n",
        "  \n",
        "  # evaluate the model and collect the results\n",
        "  scores_training = cross_val_score(model, X_train, y_train, scoring='accuracy', cv=cv, n_jobs=-1)\n",
        "  scores_test = cross_val_score(model, X_test, y_test, scoring='accuracy', cv=cv, n_jobs=-1)\n",
        "  \n",
        "  #set up array of results \n",
        "  results_training.append(scores_training)\n",
        "  results_testing.append(scores_test)\n",
        "  \n",
        "  print(f'Accuracy {i:.1f} training: {np.mean(scores_training):.03f}')\n",
        "  print(f'Accuracy {i:.1f} testing: {np.mean(scores_test):.03f}\\n')\n",
        "\n",
        "\n",
        "plt.boxplot(results_training, showmeans=True)\n",
        "plt.title('Results Training')\n",
        "plt.xlabel('x data')\n",
        "plt.ylabel('y data')\n",
        "plt.show()\n",
        "\n",
        "plt.boxplot(results_testing, showmeans=True)\n",
        "plt.title('Results Testing')\n",
        "plt.xlabel('x data')\n",
        "plt.ylabel('y data')\n",
        "plt.show()"
      ],
      "execution_count": null,
      "outputs": [
        {
          "output_type": "stream",
          "text": [
            "Accuracy 0.1 training: 0.937\n",
            "Accuracy 0.1 testing: 0.918\n",
            "\n",
            "Accuracy 0.2 training: 0.947\n",
            "Accuracy 0.2 testing: 0.928\n",
            "\n",
            "Accuracy 0.3 training: 0.955\n",
            "Accuracy 0.3 testing: 0.934\n",
            "\n",
            "Accuracy 0.4 training: 0.951\n",
            "Accuracy 0.4 testing: 0.932\n",
            "\n",
            "Accuracy 0.5 training: 0.956\n",
            "Accuracy 0.5 testing: 0.937\n",
            "\n",
            "Accuracy 0.6 training: 0.957\n",
            "Accuracy 0.6 testing: 0.936\n",
            "\n",
            "Accuracy 0.7 training: 0.949\n",
            "Accuracy 0.7 testing: 0.934\n",
            "\n",
            "Accuracy 0.8 training: 0.956\n",
            "Accuracy 0.8 testing: 0.939\n",
            "\n",
            "Accuracy 0.9 training: 0.956\n",
            "Accuracy 0.9 testing: 0.937\n",
            "\n"
          ],
          "name": "stdout"
        },
        {
          "output_type": "display_data",
          "data": {
            "image/png": "[encoded data removed]",
            "text/plain": [
              "<Figure size 432x288 with 1 Axes>"
            ]
          },
          "metadata": {
            "tags": [],
            "needs_background": "light"
          }
        },
        {
          "output_type": "display_data",
          "data": {
            "image/png": "[encoded data removed]",
            "text/plain": [
              "<Figure size 432x288 with 1 Axes>"
            ]
          },
          "metadata": {
            "tags": [],
            "needs_background": "light"
          }
        }
      ]
    },
    {
      "cell_type": "markdown",
      "metadata": {
        "id": "LpfqCyF-xgv8"
      },
      "source": [
        "* **Number\tof\tfeatures**: your\tmodel\tshould\tbe\ttrained\twith\tdifferent\tnumber\tof features such\tas\t{1,\t2,\t3,\t4,\t5,\t6,\t7,\t8,\t9,\t10}"
      ]
    },
    {
      "cell_type": "code",
      "metadata": {
        "colab": {
          "base_uri": "https://localhost:8080/",
          "height": 1000
        },
        "id": "24e9aLebxvPi",
        "outputId": "8fc0075e-8058-4085-ead8-2f5e0713bc4e"
      },
      "source": [
        "results_testing, results_training = [], []\n",
        "\n",
        "for i in np.arange(1,11):\n",
        "  #define model\n",
        "  model = RandomForestClassifier(max_features=i).fit(X,y)\n",
        "  \n",
        "  # define the evaluation procedure\n",
        "  cv = RepeatedStratifiedKFold(n_splits=10, n_repeats=3, random_state=1)\n",
        "  \n",
        "  # evaluate the model and collect the results\n",
        "  scores_training = cross_val_score(model, X_train, y_train, scoring='accuracy', cv=cv, n_jobs=-1)\n",
        "  scores_test = cross_val_score(model, X_test, y_test, scoring='accuracy', cv=cv, n_jobs=-1)\n",
        "  \n",
        "  #set up array of results \n",
        "  results_training.append(scores_training)\n",
        "  results_testing.append(scores_test)\n",
        "  \n",
        "  print(f'Accuracy {i:.1f} training: {np.mean(scores_training):.03f}')\n",
        "  print(f'Accuracy {i:.1f} testing: {np.mean(scores_test):.03f}\\n')\n",
        "\n",
        "plt.boxplot(results_training, showmeans=True)\n",
        "plt.title('Results Training')\n",
        "plt.xlabel('x data')\n",
        "plt.ylabel('y data')\n",
        "plt.show()\n",
        "\n",
        "plt.boxplot(results_testing, showmeans=True)\n",
        "plt.title('Results Testing')\n",
        "plt.xlabel('x data')\n",
        "plt.ylabel('y data')\n",
        "plt.show()"
      ],
      "execution_count": null,
      "outputs": [
        {
          "output_type": "stream",
          "text": [
            "Accuracy 1.0 training: 0.956\n",
            "Accuracy 1.0 testing: 0.938\n",
            "\n",
            "Accuracy 2.0 training: 0.960\n",
            "Accuracy 2.0 testing: 0.934\n",
            "\n",
            "Accuracy 3.0 training: 0.955\n",
            "Accuracy 3.0 testing: 0.928\n",
            "\n",
            "Accuracy 4.0 training: 0.958\n",
            "Accuracy 4.0 testing: 0.939\n",
            "\n",
            "Accuracy 5.0 training: 0.957\n",
            "Accuracy 5.0 testing: 0.939\n",
            "\n",
            "Accuracy 6.0 training: 0.957\n",
            "Accuracy 6.0 testing: 0.939\n",
            "\n",
            "Accuracy 7.0 training: 0.956\n",
            "Accuracy 7.0 testing: 0.945\n",
            "\n",
            "Accuracy 8.0 training: 0.952\n",
            "Accuracy 8.0 testing: 0.932\n",
            "\n",
            "Accuracy 9.0 training: 0.957\n",
            "Accuracy 9.0 testing: 0.937\n",
            "\n",
            "Accuracy 10.0 training: 0.954\n",
            "Accuracy 10.0 testing: 0.936\n",
            "\n"
          ],
          "name": "stdout"
        },
        {
          "output_type": "display_data",
          "data": {
            "image/png": "[encoded data removed]",
            "text/plain": [
              "<Figure size 432x288 with 1 Axes>"
            ]
          },
          "metadata": {
            "tags": [],
            "needs_background": "light"
          }
        },
        {
          "output_type": "display_data",
          "data": {
            "image/png": "[encoded data removed]",
            "text/plain": [
              "<Figure size 432x288 with 1 Axes>"
            ]
          },
          "metadata": {
            "tags": [],
            "needs_background": "light"
          }
        }
      ]
    },
    {
      "cell_type": "markdown",
      "metadata": {
        "id": "3jEsu10UyPeG"
      },
      "source": [
        "* **Number\tof\ttrees**:\tyour\tmodel\tshould\tbe\ttrained\twith\tdifferent\tnumber\tof\ttrees\tsuch\tas\t{10, 100,\t500,\t1,000}"
      ]
    },
    {
      "cell_type": "code",
      "metadata": {
        "colab": {
          "base_uri": "https://localhost:8080/",
          "height": 774
        },
        "id": "FhuFuacyydbg",
        "outputId": "8169ad3c-67bd-41fd-d56c-d87ee5acecef"
      },
      "source": [
        "vals = [10,100,500,1000]\n",
        "results_testing, results_training = [], []\n",
        "\n",
        "for k in vals:\n",
        "  #define model\n",
        "  model = RandomForestClassifier(n_estimators=k).fit(X,y)\n",
        "  \n",
        "  # define the evaluation procedure\n",
        "  cv = RepeatedStratifiedKFold(n_splits=10, n_repeats=3, random_state=1)\n",
        "  \n",
        "  # evaluate the model and collect the results\n",
        "  scores_training = cross_val_score(model, X_train, y_train, scoring='accuracy', cv=cv, n_jobs=-1)\n",
        "  scores_test = cross_val_score(model, X_test, y_test, scoring='accuracy', cv=cv, n_jobs=-1)\n",
        "  \n",
        "  #set up array of results \n",
        "  results_training.append(scores_training)\n",
        "  results_testing.append(scores_test)\n",
        "  \n",
        "  print(f'Accuracy {k:.1f} training: {np.mean(scores_training):.03f}')\n",
        "  print(f'Accuracy {k:.1f} testing: {np.mean(scores_test):.03f}\\n')\n",
        "\n",
        "plt.boxplot(results_training, showmeans=True)\n",
        "plt.title('Results Training')\n",
        "plt.xlabel('x data')\n",
        "plt.ylabel('y data')\n",
        "plt.show()\n",
        "\n",
        "plt.boxplot(results_testing, showmeans=True)\n",
        "plt.title('Results Testing')\n",
        "plt.xlabel('x data')\n",
        "plt.ylabel('y data')\n",
        "plt.show()"
      ],
      "execution_count": null,
      "outputs": [
        {
          "output_type": "stream",
          "text": [
            "Accuracy 10.0 training: 0.945\n",
            "Accuracy 10.0 testing: 0.928\n",
            "\n",
            "Accuracy 100.0 training: 0.953\n",
            "Accuracy 100.0 testing: 0.930\n",
            "\n",
            "Accuracy 500.0 training: 0.960\n",
            "Accuracy 500.0 testing: 0.939\n",
            "\n",
            "Accuracy 1000.0 training: 0.958\n",
            "Accuracy 1000.0 testing: 0.937\n",
            "\n"
          ],
          "name": "stdout"
        },
        {
          "output_type": "display_data",
          "data": {
            "image/png": "[encoded data removed]",
            "text/plain": [
              "<Figure size 432x288 with 1 Axes>"
            ]
          },
          "metadata": {
            "tags": [],
            "needs_background": "light"
          }
        },
        {
          "output_type": "display_data",
          "data": {
            "image/png": "[encoded data removed]",
            "text/plain": [
              "<Figure size 432x288 with 1 Axes>"
            ]
          },
          "metadata": {
            "tags": [],
            "needs_background": "light"
          }
        }
      ]
    },
    {
      "cell_type": "markdown",
      "metadata": {
        "id": "JyDUhHUo7y7o"
      },
      "source": [
        "# Problem 2: KNN\n",
        "\n",
        "## Car Data"
      ]
    },
    {
      "cell_type": "markdown",
      "metadata": {
        "id": "AhwESLJB73Yw"
      },
      "source": [
        "Attribute Information via UCI database:\n",
        "\n",
        "1. symboling: -3, -2, -1, 0, 1, 2, 3.\n",
        "2. normalized-losses: continuous from 65 to 256.\n",
        "3. make: alfa-romero, audi, bmw, chevrolet, dodge, honda, isuzu, jaguar, mazda, mercedes-benz, mercury, mitsubishi, nissan, peugot, plymouth, porsche, renault, saab, subaru, toyota, volkswagen, volvo\n",
        "4. fuel-type: diesel, gas.\n",
        "5. aspiration: std, turbo.\n",
        "6. num-of-doors: four, two.\n",
        "7. body-style: hardtop, wagon, sedan, hatchback, convertible.\n",
        "8. drive-wheels: 4wd, fwd, rwd.\n",
        "9. engine-location: front, rear.\n",
        "10. wheel-base: continuous from 86.6 120.9.\n",
        "11. length: continuous from 141.1 to 208.1.\n",
        "12. width: continuous from 60.3 to 72.3.\n",
        "13. height: continuous from 47.8 to 59.8.\n",
        "14. curb-weight: continuous from 1488 to 4066.\n",
        "15. engine-type: dohc, dohcv, l, ohc, ohcf, ohcv, rotor.\n",
        "16. num-of-cylinders: eight, five, four, six, three, twelve, two.\n",
        "17. engine-size: continuous from 61 to 326.\n",
        "18. fuel-system: 1bbl, 2bbl, 4bbl, idi, mfi, mpfi, spdi, spfi.\n",
        "19. bore: continuous from 2.54 to 3.94.\n",
        "20. stroke: continuous from 2.07 to 4.17.\n",
        "21. compression-ratio: continuous from 7 to 23.\n",
        "22. horsepower: continuous from 48 to 288.\n",
        "23. peak-rpm: continuous from 4150 to 6600.\n",
        "24. city-mpg: continuous from 13 to 49.\n",
        "25. highway-mpg: continuous from 16 to 54.\n",
        "26. price: continuous from 5118 to 45400."
      ]
    },
    {
      "cell_type": "code",
      "metadata": {
        "colab": {
          "base_uri": "https://localhost:8080/",
          "height": 304
        },
        "id": "EA51wPyu7210",
        "outputId": "c9be9a43-7619-4085-b333-ff58573e7c79"
      },
      "source": [
        "import seaborn as sns\n",
        "from sklearn.preprocessing import LabelEncoder\n",
        "from sklearn.impute import KNNImputer\n",
        "\n",
        "column_names = ['symboling','normalized-losses','make','fuel-type','aspiration','num-of-doors','body-style','drive-wheels','engine-location',\n",
        "                'wheel-base','length','width','height','curb-weight','engine-type','num-of-cylinders','engine-size','fuel-system','bore','stroke',\n",
        "                'compression-ratio','horsepower','peak-rpm','city-mpg','highway-mpg','price']\n",
        "\n",
        "df = pd.read_csv('https://raw.githubusercontent.com/MatthewFried/MAT5001/main/Project_3/M10_Data.csv', names = column_names)\n",
        "\n",
        "#check the dimensions of the data and display the data\n",
        "print('The dimensions of the data are: ', df.shape)\n",
        "df.head()"
      ],
      "execution_count": null,
      "outputs": [
        {
          "output_type": "stream",
          "text": [
            "The dimensions of the data are:  (205, 26)\n"
          ],
          "name": "stdout"
        },
        {
          "output_type": "execute_result",
          "data": {
            "text/html": [
              "<div>\n",
              "<style scoped>\n",
              "    .dataframe tbody tr th:only-of-type {\n",
              "        vertical-align: middle;\n",
              "    }\n",
              "\n",
              "    .dataframe tbody tr th {\n",
              "        vertical-align: top;\n",
              "    }\n",
              "\n",
              "    .dataframe thead th {\n",
              "        text-align: right;\n",
              "    }\n",
              "</style>\n",
              "<table border=\"1\" class=\"dataframe\">\n",
              "  <thead>\n",
              "    <tr style=\"text-align: right;\">\n",
              "      <th></th>\n",
              "      <th>symboling</th>\n",
              "      <th>normalized-losses</th>\n",
              "      <th>make</th>\n",
              "      <th>fuel-type</th>\n",
              "      <th>aspiration</th>\n",
              "      <th>num-of-doors</th>\n",
              "      <th>body-style</th>\n",
              "      <th>drive-wheels</th>\n",
              "      <th>engine-location</th>\n",
              "      <th>wheel-base</th>\n",
              "      <th>length</th>\n",
              "      <th>width</th>\n",
              "      <th>height</th>\n",
              "      <th>curb-weight</th>\n",
              "      <th>engine-type</th>\n",
              "      <th>num-of-cylinders</th>\n",
              "      <th>engine-size</th>\n",
              "      <th>fuel-system</th>\n",
              "      <th>bore</th>\n",
              "      <th>stroke</th>\n",
              "      <th>compression-ratio</th>\n",
              "      <th>horsepower</th>\n",
              "      <th>peak-rpm</th>\n",
              "      <th>city-mpg</th>\n",
              "      <th>highway-mpg</th>\n",
              "      <th>price</th>\n",
              "    </tr>\n",
              "  </thead>\n",
              "  <tbody>\n",
              "    <tr>\n",
              "      <th>0</th>\n",
              "      <td>3</td>\n",
              "      <td>?</td>\n",
              "      <td>alfa-romero</td>\n",
              "      <td>gas</td>\n",
              "      <td>std</td>\n",
              "      <td>two</td>\n",
              "      <td>convertible</td>\n",
              "      <td>rwd</td>\n",
              "      <td>front</td>\n",
              "      <td>88.6</td>\n",
              "      <td>168.8</td>\n",
              "      <td>64.1</td>\n",
              "      <td>48.8</td>\n",
              "      <td>2548</td>\n",
              "      <td>dohc</td>\n",
              "      <td>four</td>\n",
              "      <td>130</td>\n",
              "      <td>mpfi</td>\n",
              "      <td>3.47</td>\n",
              "      <td>2.68</td>\n",
              "      <td>9.0</td>\n",
              "      <td>111</td>\n",
              "      <td>5000</td>\n",
              "      <td>21</td>\n",
              "      <td>27</td>\n",
              "      <td>13495</td>\n",
              "    </tr>\n",
              "    <tr>\n",
              "      <th>1</th>\n",
              "      <td>3</td>\n",
              "      <td>?</td>\n",
              "      <td>alfa-romero</td>\n",
              "      <td>gas</td>\n",
              "      <td>std</td>\n",
              "      <td>two</td>\n",
              "      <td>convertible</td>\n",
              "      <td>rwd</td>\n",
              "      <td>front</td>\n",
              "      <td>88.6</td>\n",
              "      <td>168.8</td>\n",
              "      <td>64.1</td>\n",
              "      <td>48.8</td>\n",
              "      <td>2548</td>\n",
              "      <td>dohc</td>\n",
              "      <td>four</td>\n",
              "      <td>130</td>\n",
              "      <td>mpfi</td>\n",
              "      <td>3.47</td>\n",
              "      <td>2.68</td>\n",
              "      <td>9.0</td>\n",
              "      <td>111</td>\n",
              "      <td>5000</td>\n",
              "      <td>21</td>\n",
              "      <td>27</td>\n",
              "      <td>16500</td>\n",
              "    </tr>\n",
              "    <tr>\n",
              "      <th>2</th>\n",
              "      <td>1</td>\n",
              "      <td>?</td>\n",
              "      <td>alfa-romero</td>\n",
              "      <td>gas</td>\n",
              "      <td>std</td>\n",
              "      <td>two</td>\n",
              "      <td>hatchback</td>\n",
              "      <td>rwd</td>\n",
              "      <td>front</td>\n",
              "      <td>94.5</td>\n",
              "      <td>171.2</td>\n",
              "      <td>65.5</td>\n",
              "      <td>52.4</td>\n",
              "      <td>2823</td>\n",
              "      <td>ohcv</td>\n",
              "      <td>six</td>\n",
              "      <td>152</td>\n",
              "      <td>mpfi</td>\n",
              "      <td>2.68</td>\n",
              "      <td>3.47</td>\n",
              "      <td>9.0</td>\n",
              "      <td>154</td>\n",
              "      <td>5000</td>\n",
              "      <td>19</td>\n",
              "      <td>26</td>\n",
              "      <td>16500</td>\n",
              "    </tr>\n",
              "    <tr>\n",
              "      <th>3</th>\n",
              "      <td>2</td>\n",
              "      <td>164</td>\n",
              "      <td>audi</td>\n",
              "      <td>gas</td>\n",
              "      <td>std</td>\n",
              "      <td>four</td>\n",
              "      <td>sedan</td>\n",
              "      <td>fwd</td>\n",
              "      <td>front</td>\n",
              "      <td>99.8</td>\n",
              "      <td>176.6</td>\n",
              "      <td>66.2</td>\n",
              "      <td>54.3</td>\n",
              "      <td>2337</td>\n",
              "      <td>ohc</td>\n",
              "      <td>four</td>\n",
              "      <td>109</td>\n",
              "      <td>mpfi</td>\n",
              "      <td>3.19</td>\n",
              "      <td>3.4</td>\n",
              "      <td>10.0</td>\n",
              "      <td>102</td>\n",
              "      <td>5500</td>\n",
              "      <td>24</td>\n",
              "      <td>30</td>\n",
              "      <td>13950</td>\n",
              "    </tr>\n",
              "    <tr>\n",
              "      <th>4</th>\n",
              "      <td>2</td>\n",
              "      <td>164</td>\n",
              "      <td>audi</td>\n",
              "      <td>gas</td>\n",
              "      <td>std</td>\n",
              "      <td>four</td>\n",
              "      <td>sedan</td>\n",
              "      <td>4wd</td>\n",
              "      <td>front</td>\n",
              "      <td>99.4</td>\n",
              "      <td>176.6</td>\n",
              "      <td>66.4</td>\n",
              "      <td>54.3</td>\n",
              "      <td>2824</td>\n",
              "      <td>ohc</td>\n",
              "      <td>five</td>\n",
              "      <td>136</td>\n",
              "      <td>mpfi</td>\n",
              "      <td>3.19</td>\n",
              "      <td>3.4</td>\n",
              "      <td>8.0</td>\n",
              "      <td>115</td>\n",
              "      <td>5500</td>\n",
              "      <td>18</td>\n",
              "      <td>22</td>\n",
              "      <td>17450</td>\n",
              "    </tr>\n",
              "  </tbody>\n",
              "</table>\n",
              "</div>"
            ],
            "text/plain": [
              "   symboling normalized-losses         make  ... city-mpg highway-mpg  price\n",
              "0          3                 ?  alfa-romero  ...       21          27  13495\n",
              "1          3                 ?  alfa-romero  ...       21          27  16500\n",
              "2          1                 ?  alfa-romero  ...       19          26  16500\n",
              "3          2               164         audi  ...       24          30  13950\n",
              "4          2               164         audi  ...       18          22  17450\n",
              "\n",
              "[5 rows x 26 columns]"
            ]
          },
          "metadata": {
            "tags": []
          },
          "execution_count": 35
        }
      ]
    },
    {
      "cell_type": "code",
      "metadata": {
        "colab": {
          "base_uri": "https://localhost:8080/"
        },
        "id": "3SSItL__8Sxq",
        "outputId": "ba90bb35-5534-440d-8238-ac6d04c47dc2"
      },
      "source": [
        "print(f\"There are currently %s question marks.\" %df[df == '?'].count().sum())\n",
        "#replace '?' with NaN\n",
        "df.replace('?', np.NaN, inplace=True)\n",
        "print(f\"There are currently %s question marks.\" %df[df == '?'].count().sum())"
      ],
      "execution_count": null,
      "outputs": [
        {
          "output_type": "stream",
          "text": [
            "There are currently 59 question marks.\n",
            "There are currently 0 question marks.\n"
          ],
          "name": "stdout"
        }
      ]
    },
    {
      "cell_type": "code",
      "metadata": {
        "colab": {
          "base_uri": "https://localhost:8080/"
        },
        "id": "mcZmJANd8XWV",
        "outputId": "a0b3a2a5-4b36-40eb-961b-84c4cd9a1360"
      },
      "source": [
        "#we set aside the continuous data to turn it into numeric data (since, as shown above, not all of it is in numeric format)\n",
        "for_boxes = ['normalized-losses','wheel-base','length','width','height','curb-weight','engine-size','bore','stroke',\n",
        "                'compression-ratio','horsepower','peak-rpm','city-mpg','highway-mpg','price']\n",
        "\n",
        "# convert for_boxes to numeric and check that it is so\n",
        "df[for_boxes] = df[for_boxes].apply(pd.to_numeric)\n",
        "df[for_boxes].info()"
      ],
      "execution_count": null,
      "outputs": [
        {
          "output_type": "stream",
          "text": [
            "<class 'pandas.core.frame.DataFrame'>\n",
            "RangeIndex: 205 entries, 0 to 204\n",
            "Data columns (total 15 columns):\n",
            " #   Column             Non-Null Count  Dtype  \n",
            "---  ------             --------------  -----  \n",
            " 0   normalized-losses  164 non-null    float64\n",
            " 1   wheel-base         205 non-null    float64\n",
            " 2   length             205 non-null    float64\n",
            " 3   width              205 non-null    float64\n",
            " 4   height             205 non-null    float64\n",
            " 5   curb-weight        205 non-null    int64  \n",
            " 6   engine-size        205 non-null    int64  \n",
            " 7   bore               201 non-null    float64\n",
            " 8   stroke             201 non-null    float64\n",
            " 9   compression-ratio  205 non-null    float64\n",
            " 10  horsepower         203 non-null    float64\n",
            " 11  peak-rpm           203 non-null    float64\n",
            " 12  city-mpg           205 non-null    int64  \n",
            " 13  highway-mpg        205 non-null    int64  \n",
            " 14  price              201 non-null    float64\n",
            "dtypes: float64(11), int64(4)\n",
            "memory usage: 24.1 KB\n"
          ],
          "name": "stdout"
        }
      ]
    },
    {
      "cell_type": "code",
      "metadata": {
        "colab": {
          "base_uri": "https://localhost:8080/"
        },
        "id": "BjwVaNht_CVz",
        "outputId": "754adb0f-0e93-4b3e-cb62-d0852200cbfa"
      },
      "source": [
        "#check if we have any empty data\n",
        "df.isna().sum()"
      ],
      "execution_count": null,
      "outputs": [
        {
          "output_type": "execute_result",
          "data": {
            "text/plain": [
              "symboling             0\n",
              "normalized-losses    41\n",
              "make                  0\n",
              "fuel-type             0\n",
              "aspiration            0\n",
              "num-of-doors          2\n",
              "body-style            0\n",
              "drive-wheels          0\n",
              "engine-location       0\n",
              "wheel-base            0\n",
              "length                0\n",
              "width                 0\n",
              "height                0\n",
              "curb-weight           0\n",
              "engine-type           0\n",
              "num-of-cylinders      0\n",
              "engine-size           0\n",
              "fuel-system           0\n",
              "bore                  4\n",
              "stroke                4\n",
              "compression-ratio     0\n",
              "horsepower            2\n",
              "peak-rpm              2\n",
              "city-mpg              0\n",
              "highway-mpg           0\n",
              "price                 4\n",
              "dtype: int64"
            ]
          },
          "metadata": {
            "tags": []
          },
          "execution_count": 38
        }
      ]
    },
    {
      "cell_type": "code",
      "metadata": {
        "colab": {
          "base_uri": "https://localhost:8080/"
        },
        "id": "LgQxEwE9ABG_",
        "outputId": "559c271d-2594-4f1a-84f3-a38efbb71fb0"
      },
      "source": [
        "df.info()"
      ],
      "execution_count": null,
      "outputs": [
        {
          "output_type": "stream",
          "text": [
            "<class 'pandas.core.frame.DataFrame'>\n",
            "RangeIndex: 205 entries, 0 to 204\n",
            "Data columns (total 26 columns):\n",
            " #   Column             Non-Null Count  Dtype  \n",
            "---  ------             --------------  -----  \n",
            " 0   symboling          205 non-null    int64  \n",
            " 1   normalized-losses  164 non-null    float64\n",
            " 2   make               205 non-null    object \n",
            " 3   fuel-type          205 non-null    object \n",
            " 4   aspiration         205 non-null    object \n",
            " 5   num-of-doors       203 non-null    object \n",
            " 6   body-style         205 non-null    object \n",
            " 7   drive-wheels       205 non-null    object \n",
            " 8   engine-location    205 non-null    object \n",
            " 9   wheel-base         205 non-null    float64\n",
            " 10  length             205 non-null    float64\n",
            " 11  width              205 non-null    float64\n",
            " 12  height             205 non-null    float64\n",
            " 13  curb-weight        205 non-null    int64  \n",
            " 14  engine-type        205 non-null    object \n",
            " 15  num-of-cylinders   205 non-null    object \n",
            " 16  engine-size        205 non-null    int64  \n",
            " 17  fuel-system        205 non-null    object \n",
            " 18  bore               201 non-null    float64\n",
            " 19  stroke             201 non-null    float64\n",
            " 20  compression-ratio  205 non-null    float64\n",
            " 21  horsepower         203 non-null    float64\n",
            " 22  peak-rpm           203 non-null    float64\n",
            " 23  city-mpg           205 non-null    int64  \n",
            " 24  highway-mpg        205 non-null    int64  \n",
            " 25  price              201 non-null    float64\n",
            "dtypes: float64(11), int64(5), object(10)\n",
            "memory usage: 41.8+ KB\n"
          ],
          "name": "stdout"
        }
      ]
    },
    {
      "cell_type": "code",
      "metadata": {
        "id": "5Ro0h_nXHAcP"
      },
      "source": [
        "#remove normalized losses and impute with mode for every other column\n",
        "holder = df['normalized-losses']\n",
        "df.drop('normalized-losses', axis=1, inplace=True)\n",
        "df = df.fillna(df.mode().iloc[0])"
      ],
      "execution_count": null,
      "outputs": []
    },
    {
      "cell_type": "code",
      "metadata": {
        "id": "QJ-fOAH8IPJH"
      },
      "source": [
        "#do label encoding on all categorical data\n",
        "\n",
        "df['normalized-losses'] = holder\n",
        "#create a subset to work with\n",
        "df_set = df[['make','fuel-type','aspiration','num-of-doors',\t'body-style',\t'drive-wheels',\t'engine-location','engine-type','num-of-cylinders','fuel-system']]\n",
        "\n",
        "#convert to numbers using LabelEncoder\n",
        "df_set = df_set.apply(LabelEncoder().fit_transform)"
      ],
      "execution_count": null,
      "outputs": []
    },
    {
      "cell_type": "code",
      "metadata": {
        "id": "kDP8atH3K7Pf"
      },
      "source": [
        "#replace values and use an imputer for the normalized-losses column\n",
        "df.drop(df[['make','fuel-type','aspiration','num-of-doors',\t'body-style',\t'drive-wheels',\t'engine-location','engine-type','num-of-cylinders','fuel-system']],axis=1,inplace=True)"
      ],
      "execution_count": null,
      "outputs": []
    },
    {
      "cell_type": "code",
      "metadata": {
        "id": "CumyXzNJLoGX"
      },
      "source": [
        "#rejoin all data into one frame\n",
        "result = pd.concat([df, df_set], axis=1, join='inner')"
      ],
      "execution_count": null,
      "outputs": []
    },
    {
      "cell_type": "code",
      "metadata": {
        "id": "7PguHVXZMwQG"
      },
      "source": [
        "#impute with n = 3 for normalized-losses\n",
        "#I use this strange implementation so that it will stay in a data frame\n",
        "imputer = KNNImputer(n_neighbors=3)\n",
        "df = pd.DataFrame(imputer.fit_transform(result),columns = result.columns)"
      ],
      "execution_count": null,
      "outputs": []
    },
    {
      "cell_type": "code",
      "metadata": {
        "colab": {
          "base_uri": "https://localhost:8080/",
          "height": 237
        },
        "id": "ninRM46FM-01",
        "outputId": "30d51ac3-9571-4ee8-f903-6ea966a86286"
      },
      "source": [
        "df.head()"
      ],
      "execution_count": null,
      "outputs": [
        {
          "output_type": "execute_result",
          "data": {
            "text/html": [
              "<div>\n",
              "<style scoped>\n",
              "    .dataframe tbody tr th:only-of-type {\n",
              "        vertical-align: middle;\n",
              "    }\n",
              "\n",
              "    .dataframe tbody tr th {\n",
              "        vertical-align: top;\n",
              "    }\n",
              "\n",
              "    .dataframe thead th {\n",
              "        text-align: right;\n",
              "    }\n",
              "</style>\n",
              "<table border=\"1\" class=\"dataframe\">\n",
              "  <thead>\n",
              "    <tr style=\"text-align: right;\">\n",
              "      <th></th>\n",
              "      <th>symboling</th>\n",
              "      <th>wheel-base</th>\n",
              "      <th>length</th>\n",
              "      <th>width</th>\n",
              "      <th>height</th>\n",
              "      <th>curb-weight</th>\n",
              "      <th>engine-size</th>\n",
              "      <th>bore</th>\n",
              "      <th>stroke</th>\n",
              "      <th>compression-ratio</th>\n",
              "      <th>horsepower</th>\n",
              "      <th>peak-rpm</th>\n",
              "      <th>city-mpg</th>\n",
              "      <th>highway-mpg</th>\n",
              "      <th>price</th>\n",
              "      <th>normalized-losses</th>\n",
              "      <th>make</th>\n",
              "      <th>fuel-type</th>\n",
              "      <th>aspiration</th>\n",
              "      <th>num-of-doors</th>\n",
              "      <th>body-style</th>\n",
              "      <th>drive-wheels</th>\n",
              "      <th>engine-location</th>\n",
              "      <th>engine-type</th>\n",
              "      <th>num-of-cylinders</th>\n",
              "      <th>fuel-system</th>\n",
              "    </tr>\n",
              "  </thead>\n",
              "  <tbody>\n",
              "    <tr>\n",
              "      <th>0</th>\n",
              "      <td>3.0</td>\n",
              "      <td>88.6</td>\n",
              "      <td>168.8</td>\n",
              "      <td>64.1</td>\n",
              "      <td>48.8</td>\n",
              "      <td>2548.0</td>\n",
              "      <td>130.0</td>\n",
              "      <td>3.47</td>\n",
              "      <td>2.68</td>\n",
              "      <td>9.0</td>\n",
              "      <td>111.0</td>\n",
              "      <td>5000.0</td>\n",
              "      <td>21.0</td>\n",
              "      <td>27.0</td>\n",
              "      <td>13495.0</td>\n",
              "      <td>127.0</td>\n",
              "      <td>0.0</td>\n",
              "      <td>1.0</td>\n",
              "      <td>0.0</td>\n",
              "      <td>1.0</td>\n",
              "      <td>0.0</td>\n",
              "      <td>2.0</td>\n",
              "      <td>0.0</td>\n",
              "      <td>0.0</td>\n",
              "      <td>2.0</td>\n",
              "      <td>5.0</td>\n",
              "    </tr>\n",
              "    <tr>\n",
              "      <th>1</th>\n",
              "      <td>3.0</td>\n",
              "      <td>88.6</td>\n",
              "      <td>168.8</td>\n",
              "      <td>64.1</td>\n",
              "      <td>48.8</td>\n",
              "      <td>2548.0</td>\n",
              "      <td>130.0</td>\n",
              "      <td>3.47</td>\n",
              "      <td>2.68</td>\n",
              "      <td>9.0</td>\n",
              "      <td>111.0</td>\n",
              "      <td>5000.0</td>\n",
              "      <td>21.0</td>\n",
              "      <td>27.0</td>\n",
              "      <td>16500.0</td>\n",
              "      <td>144.0</td>\n",
              "      <td>0.0</td>\n",
              "      <td>1.0</td>\n",
              "      <td>0.0</td>\n",
              "      <td>1.0</td>\n",
              "      <td>0.0</td>\n",
              "      <td>2.0</td>\n",
              "      <td>0.0</td>\n",
              "      <td>0.0</td>\n",
              "      <td>2.0</td>\n",
              "      <td>5.0</td>\n",
              "    </tr>\n",
              "    <tr>\n",
              "      <th>2</th>\n",
              "      <td>1.0</td>\n",
              "      <td>94.5</td>\n",
              "      <td>171.2</td>\n",
              "      <td>65.5</td>\n",
              "      <td>52.4</td>\n",
              "      <td>2823.0</td>\n",
              "      <td>152.0</td>\n",
              "      <td>2.68</td>\n",
              "      <td>3.47</td>\n",
              "      <td>9.0</td>\n",
              "      <td>154.0</td>\n",
              "      <td>5000.0</td>\n",
              "      <td>19.0</td>\n",
              "      <td>26.0</td>\n",
              "      <td>16500.0</td>\n",
              "      <td>144.0</td>\n",
              "      <td>0.0</td>\n",
              "      <td>1.0</td>\n",
              "      <td>0.0</td>\n",
              "      <td>1.0</td>\n",
              "      <td>2.0</td>\n",
              "      <td>2.0</td>\n",
              "      <td>0.0</td>\n",
              "      <td>5.0</td>\n",
              "      <td>3.0</td>\n",
              "      <td>5.0</td>\n",
              "    </tr>\n",
              "    <tr>\n",
              "      <th>3</th>\n",
              "      <td>2.0</td>\n",
              "      <td>99.8</td>\n",
              "      <td>176.6</td>\n",
              "      <td>66.2</td>\n",
              "      <td>54.3</td>\n",
              "      <td>2337.0</td>\n",
              "      <td>109.0</td>\n",
              "      <td>3.19</td>\n",
              "      <td>3.40</td>\n",
              "      <td>10.0</td>\n",
              "      <td>102.0</td>\n",
              "      <td>5500.0</td>\n",
              "      <td>24.0</td>\n",
              "      <td>30.0</td>\n",
              "      <td>13950.0</td>\n",
              "      <td>164.0</td>\n",
              "      <td>1.0</td>\n",
              "      <td>1.0</td>\n",
              "      <td>0.0</td>\n",
              "      <td>0.0</td>\n",
              "      <td>3.0</td>\n",
              "      <td>1.0</td>\n",
              "      <td>0.0</td>\n",
              "      <td>3.0</td>\n",
              "      <td>2.0</td>\n",
              "      <td>5.0</td>\n",
              "    </tr>\n",
              "    <tr>\n",
              "      <th>4</th>\n",
              "      <td>2.0</td>\n",
              "      <td>99.4</td>\n",
              "      <td>176.6</td>\n",
              "      <td>66.4</td>\n",
              "      <td>54.3</td>\n",
              "      <td>2824.0</td>\n",
              "      <td>136.0</td>\n",
              "      <td>3.19</td>\n",
              "      <td>3.40</td>\n",
              "      <td>8.0</td>\n",
              "      <td>115.0</td>\n",
              "      <td>5500.0</td>\n",
              "      <td>18.0</td>\n",
              "      <td>22.0</td>\n",
              "      <td>17450.0</td>\n",
              "      <td>164.0</td>\n",
              "      <td>1.0</td>\n",
              "      <td>1.0</td>\n",
              "      <td>0.0</td>\n",
              "      <td>0.0</td>\n",
              "      <td>3.0</td>\n",
              "      <td>0.0</td>\n",
              "      <td>0.0</td>\n",
              "      <td>3.0</td>\n",
              "      <td>1.0</td>\n",
              "      <td>5.0</td>\n",
              "    </tr>\n",
              "  </tbody>\n",
              "</table>\n",
              "</div>"
            ],
            "text/plain": [
              "   symboling  wheel-base  length  ...  engine-type  num-of-cylinders  fuel-system\n",
              "0        3.0        88.6   168.8  ...          0.0               2.0          5.0\n",
              "1        3.0        88.6   168.8  ...          0.0               2.0          5.0\n",
              "2        1.0        94.5   171.2  ...          5.0               3.0          5.0\n",
              "3        2.0        99.8   176.6  ...          3.0               2.0          5.0\n",
              "4        2.0        99.4   176.6  ...          3.0               1.0          5.0\n",
              "\n",
              "[5 rows x 26 columns]"
            ]
          },
          "metadata": {
            "tags": []
          },
          "execution_count": 45
        }
      ]
    },
    {
      "cell_type": "code",
      "metadata": {
        "id": "KAhG_HuaOmb9"
      },
      "source": [
        "from collections import Counter\n",
        "import math\n",
        "\n",
        "def knn(data, query, k, distance_fn, choice_fn):\n",
        "    neighbor_distances_and_indices = []\n",
        "    \n",
        "    # 3. For each example in the data\n",
        "    for index, example in enumerate(data):\n",
        "        # 3.1 Calculate the distance between the query example and the current\n",
        "        # example from the data.\n",
        "        distance = distance_fn(example[:-1], query)\n",
        "        \n",
        "        # 3.2 Add the distance and the index of the example to an ordered collection\n",
        "        neighbor_distances_and_indices.append((distance, index))\n",
        "    \n",
        "    # 4. Sort the ordered collection of distances and indices from\n",
        "    # smallest to largest (in ascending order) by the distances\n",
        "    sorted_neighbor_distances_and_indices = sorted(neighbor_distances_and_indices)\n",
        "    \n",
        "    # 5. Pick the first K entries from the sorted collection\n",
        "    k_nearest_distances_and_indices = sorted_neighbor_distances_and_indices[:k]\n",
        "    \n",
        "    # 6. Get the labels of the selected K entries\n",
        "    k_nearest_labels = [data[i][-1] for distance, i in k_nearest_distances_and_indices]\n",
        "\n",
        "    # 7. If regression (choice_fn = mean), return the average of the K labels\n",
        "    # 8. If classification (choice_fn = mode), return the mode of the K labels\n",
        "    return k_nearest_distances_and_indices , choice_fn(k_nearest_labels)\n",
        "\n",
        "def mean(labels):\n",
        "    return sum(labels) / len(labels)\n",
        "\n",
        "def mode(labels):\n",
        "    return Counter(labels).most_common(1)[0][0]\n",
        "\n",
        "def euclidean_distance(point1, point2):\n",
        "    sum_squared_distance = 0\n",
        "    for i in range(len(point1)):\n",
        "        sum_squared_distance += math.pow(point1[i] - point2[i], 2)\n",
        "    return math.sqrt(sum_squared_distance)"
      ],
      "execution_count": null,
      "outputs": []
    },
    {
      "cell_type": "code",
      "metadata": {
        "colab": {
          "base_uri": "https://localhost:8080/"
        },
        "id": "TUydK9zIe9WL",
        "outputId": "17365688-b1cc-4d01-d196-00843651a826"
      },
      "source": [
        "#query\t=\t[1,\t100,\tbmw, gas,\tstd,\tfour,\tsedan,\tfwd,\tfront,\t100.0,\t170.0,\t65.0,\t50.0,\t2000,\trotor,\tfour,\t200, mfi,\t3.0,\t3.0,\t15,\t200,\t5000,\t23,\t27,\t30000]\n",
        "query\t=\t[1,\t100,\t2, 1,\t0,\t0,\t3,\t1,\t0,\t100.0,\t170.0,\t65.0,\t50.0,\t2000,\t6,\t2,\t200, 4,\t3.0,\t3.0,\t15,\t200,\t5000,\t23,\t27,\t30000]\n",
        "alt_df = df.to_numpy()\n",
        "a,b = knn(alt_df,query,k = 5,distance_fn=euclidean_distance, choice_fn=mode)\n",
        "\n",
        "outputs = []\n",
        "for _, index in a:\n",
        "  outputs.append(alt_df[index])\n",
        "\n",
        "np.set_printoptions(precision=3)\n",
        "np.set_printoptions(suppress=True)\n",
        "\n",
        "# Print recommended movie titles\n",
        "for k in outputs:\n",
        "  print(k)"
      ],
      "execution_count": null,
      "outputs": [
        {
          "output_type": "stream",
          "text": [
            "[   2.     93.7   156.9    63.4    53.7  2050.     97.      3.62    2.36\n",
            "    9.     69.   4900.     31.     36.   5118.     83.     18.      1.\n",
            "    0.      1.      2.      1.      0.      4.      2.      1.  ]\n",
            "[   2.     88.4   141.1    60.3    53.2  1488.     61.      2.91    3.03\n",
            "    9.5    48.   5100.     47.     53.   5151.    121.      3.      1.\n",
            "    0.      1.      2.      1.      0.      2.      4.      1.  ]\n",
            "[   1.     93.1   159.1    64.2    54.1  1890.     91.      3.03    3.15\n",
            "    9.     68.   5000.     30.     31.   5195.    104.      8.      1.\n",
            "    0.      1.      2.      1.      0.      3.      2.      1.  ]\n",
            "[   1.     95.7   158.7    63.6    54.5  1985.     92.      3.05    3.03\n",
            "    9.     62.   4800.     35.     39.   5348.     87.     19.      1.\n",
            "    0.      1.      2.      1.      0.      3.      2.      1.  ]\n",
            "[   1.     94.5   165.3    63.8    54.5  1889.     97.      3.15    3.29\n",
            "    9.4    69.   5200.     31.     37.   5499.    128.     12.      1.\n",
            "    0.      1.      3.      1.      0.      3.      2.      1.  ]\n"
          ],
          "name": "stdout"
        }
      ]
    },
    {
      "cell_type": "code",
      "metadata": {
        "colab": {
          "base_uri": "https://localhost:8080/"
        },
        "id": "NB8Tvlo4hfYq",
        "outputId": "a330abaa-e383-4d7e-f78a-10f9f1dfa5dc"
      },
      "source": [
        "#query\t=\t[1,\t100,\tbmw, gas,\tstd,\tfour,\tsedan,\tfwd,\tfront,\t100.0,\t170.0,\t65.0,\t50.0,\t2000,\trotor,\tfour,\t200, mfi,\t3.0,\t3.0,\t15,\t200,\t5000,\t23,\t27,\t30000]\n",
        "query\t=\t[1,\t100,\t2, 1,\t0,\t0,\t3,\t1,\t0,\t100.0,\t170.0,\t65.0,\t50.0,\t2000,\t6,\t2,\t200, 4,\t3.0,\t3.0,\t15,\t200,\t5000,\t23,\t27,\t30000]\n",
        "alt_df = df.to_numpy()\n",
        "a,b = knn(alt_df,query,k = 10,distance_fn=euclidean_distance, choice_fn=mode)\n",
        "\n",
        "outputs = []\n",
        "for _, index in a:\n",
        "  outputs.append(alt_df[index])\n",
        "\n",
        "np.set_printoptions(precision=3)\n",
        "np.set_printoptions(suppress=True)\n",
        "\n",
        "# Print recommended movie titles\n",
        "for k in outputs:\n",
        "  print(k)"
      ],
      "execution_count": null,
      "outputs": [
        {
          "output_type": "stream",
          "text": [
            "[   2.     93.7   156.9    63.4    53.7  2050.     97.      3.62    2.36\n",
            "    9.     69.   4900.     31.     36.   5118.     83.     18.      1.\n",
            "    0.      1.      2.      1.      0.      4.      2.      1.  ]\n",
            "[   2.     88.4   141.1    60.3    53.2  1488.     61.      2.91    3.03\n",
            "    9.5    48.   5100.     47.     53.   5151.    121.      3.      1.\n",
            "    0.      1.      2.      1.      0.      2.      4.      1.  ]\n",
            "[   1.     93.1   159.1    64.2    54.1  1890.     91.      3.03    3.15\n",
            "    9.     68.   5000.     30.     31.   5195.    104.      8.      1.\n",
            "    0.      1.      2.      1.      0.      3.      2.      1.  ]\n",
            "[   1.     95.7   158.7    63.6    54.5  1985.     92.      3.05    3.03\n",
            "    9.     62.   4800.     35.     39.   5348.     87.     19.      1.\n",
            "    0.      1.      2.      1.      0.      3.      2.      1.  ]\n",
            "[   1.     94.5   165.3    63.8    54.5  1889.     97.      3.15    3.29\n",
            "    9.4    69.   5200.     31.     37.   5499.    128.     12.      1.\n",
            "    0.      1.      3.      1.      0.      3.      2.      1.  ]\n",
            "[   1.     93.7   150.     64.     52.6  1837.     79.      2.91    3.07\n",
            "   10.1    60.   5500.     38.     42.   5399.    101.      5.      1.\n",
            "    0.      1.      2.      1.      0.      3.      2.      0.  ]\n",
            "[   2.     93.7   157.3    64.4    50.8  1918.     92.      2.97    3.23\n",
            "    9.4    68.   5500.     37.     41.   5389.    161.     11.      1.\n",
            "    0.      1.      2.      1.      0.      3.      2.      1.  ]\n",
            "[   1.      94.5    155.9     63.6     52.    1874.      90.       3.03\n",
            "    3.11     9.6     70.    5400.      38.      43.    5572.     112.667\n",
            "    6.       1.       0.       1.       3.       1.       0.       3.\n",
            "    2.       1.   ]\n",
            "[   0.      94.5    155.9     63.6     52.    1909.      90.       3.03\n",
            "    3.11     9.6     70.    5400.      38.      43.    5572.     132.667\n",
            "    6.       1.       0.       0.       3.       1.       0.       3.\n",
            "    2.       1.   ]\n",
            "[   1.     93.7   157.3    63.8    50.8  1876.     90.      2.97    3.23\n",
            "    9.41   68.   5500.     37.     41.   5572.    118.      4.      1.\n",
            "    0.      1.      2.      1.      0.      3.      2.      1.  ]\n"
          ],
          "name": "stdout"
        }
      ]
    },
    {
      "cell_type": "markdown",
      "metadata": {
        "id": "vnUtJdkCsy2A"
      },
      "source": [
        "# Problem 3: Naive Bayes Classifier"
      ]
    },
    {
      "cell_type": "code",
      "metadata": {
        "colab": {
          "base_uri": "https://localhost:8080/"
        },
        "id": "myyj4Faks3Rb",
        "outputId": "f213530d-85a9-4ec5-ce47-703d5d9cd6a4"
      },
      "source": [
        "#data\n",
        "color=['red','blue','green','blue','blue','blue','red','green','green','blue','blue','red']\n",
        "shape=['square','circle','square','square','square','circle','square','circle','square','circle','square','square']\n",
        "label=['plus','plus','plus','minus','minus','plus','plus','minus','plus','minus','plus','minus']\n",
        "\n",
        "# Import LabelEncoder\n",
        "from sklearn import preprocessing\n",
        "\n",
        "#creating labelEncoder\n",
        "le = preprocessing.LabelEncoder()\n",
        "\n",
        "# Converting string labels into numbers.\n",
        "color_encoded = le.fit_transform(color)\n",
        "shape_encoded = le.fit_transform(shape)\n",
        "label_encoded = le.fit_transform(label)\n",
        "\n",
        "print(\"Color: \", color_encoded)\n",
        "print(\"Shape: \", shape_encoded)\n",
        "print(\"Label: \", label_encoded)\n",
        "\n",
        "#Combinig weather and temp into single listof tuples\n",
        "features=zip(color_encoded,shape_encoded)\n",
        "features = list(features)\n",
        "print (features)\n",
        "\n",
        "#Import Gaussian Naive Bayes model\n",
        "from sklearn.naive_bayes import GaussianNB\n",
        "\n",
        "#Create a Gaussian Classifier\n",
        "model = GaussianNB()\n",
        "\n",
        "# Train the model using the training sets\n",
        "model.fit(features,label)\n",
        "\n",
        "#Predict Output\n",
        "predicted= model.predict([[0,1]]) # 0:Blue, 1:Square\n",
        "print (\"Predicted Value for Blue Sqaure:\", predicted)\n",
        "\n",
        "#Predict Output\n",
        "predicted= model.predict([[3,1]]) # 3:Yellow, 2:Square\n",
        "print (\"Predicted Value for Yellow Sqaure:\", predicted)"
      ],
      "execution_count": null,
      "outputs": [
        {
          "output_type": "stream",
          "text": [
            "Color:  [2 0 1 0 0 0 2 1 1 0 0 2]\n",
            "Shape:  [1 0 1 1 1 0 1 0 1 0 1 1]\n",
            "Label:  [1 1 1 0 0 1 1 0 1 0 1 0]\n",
            "[(2, 1), (0, 0), (1, 1), (0, 1), (0, 1), (0, 0), (2, 1), (1, 0), (1, 1), (0, 0), (0, 1), (2, 1)]\n",
            "Predicted Value for Blue Sqaure: ['plus']\n",
            "Predicted Value for Yellow Sqaure: ['plus']\n"
          ],
          "name": "stdout"
        }
      ]
    },
    {
      "cell_type": "markdown",
      "metadata": {
        "id": "vofDtwL8v1yU"
      },
      "source": [
        "# Problem 4: PCA\n",
        "\n",
        "https://github.com/rasbt/python-machine-learning-book-3rd-edition/blob/master/ch05/ch05.ipynb"
      ]
    },
    {
      "cell_type": "code",
      "metadata": {
        "colab": {
          "base_uri": "https://localhost:8080/",
          "height": 206
        },
        "id": "uByuorhzv7Q7",
        "outputId": "c1604f1f-cf6d-477a-c655-96b8a4faa868"
      },
      "source": [
        "hf = pd.read_csv(\"https://raw.githubusercontent.com/MatthewFried/ML_and_PredictiveModeling/main/heart_failure_clinical_records_dataset.csv\")\n",
        "hf.head()"
      ],
      "execution_count": 32,
      "outputs": [
        {
          "output_type": "execute_result",
          "data": {
            "text/html": [
              "<div>\n",
              "<style scoped>\n",
              "    .dataframe tbody tr th:only-of-type {\n",
              "        vertical-align: middle;\n",
              "    }\n",
              "\n",
              "    .dataframe tbody tr th {\n",
              "        vertical-align: top;\n",
              "    }\n",
              "\n",
              "    .dataframe thead th {\n",
              "        text-align: right;\n",
              "    }\n",
              "</style>\n",
              "<table border=\"1\" class=\"dataframe\">\n",
              "  <thead>\n",
              "    <tr style=\"text-align: right;\">\n",
              "      <th></th>\n",
              "      <th>age</th>\n",
              "      <th>anaemia</th>\n",
              "      <th>creatinine_phosphokinase</th>\n",
              "      <th>diabetes</th>\n",
              "      <th>ejection_fraction</th>\n",
              "      <th>high_blood_pressure</th>\n",
              "      <th>platelets</th>\n",
              "      <th>serum_creatinine</th>\n",
              "      <th>serum_sodium</th>\n",
              "      <th>sex</th>\n",
              "      <th>smoking</th>\n",
              "      <th>time</th>\n",
              "      <th>DEATH_EVENT</th>\n",
              "    </tr>\n",
              "  </thead>\n",
              "  <tbody>\n",
              "    <tr>\n",
              "      <th>0</th>\n",
              "      <td>75.0</td>\n",
              "      <td>0</td>\n",
              "      <td>582</td>\n",
              "      <td>0</td>\n",
              "      <td>20</td>\n",
              "      <td>1</td>\n",
              "      <td>265000.00</td>\n",
              "      <td>1.9</td>\n",
              "      <td>130</td>\n",
              "      <td>1</td>\n",
              "      <td>0</td>\n",
              "      <td>4</td>\n",
              "      <td>1</td>\n",
              "    </tr>\n",
              "    <tr>\n",
              "      <th>1</th>\n",
              "      <td>55.0</td>\n",
              "      <td>0</td>\n",
              "      <td>7861</td>\n",
              "      <td>0</td>\n",
              "      <td>38</td>\n",
              "      <td>0</td>\n",
              "      <td>263358.03</td>\n",
              "      <td>1.1</td>\n",
              "      <td>136</td>\n",
              "      <td>1</td>\n",
              "      <td>0</td>\n",
              "      <td>6</td>\n",
              "      <td>1</td>\n",
              "    </tr>\n",
              "    <tr>\n",
              "      <th>2</th>\n",
              "      <td>65.0</td>\n",
              "      <td>0</td>\n",
              "      <td>146</td>\n",
              "      <td>0</td>\n",
              "      <td>20</td>\n",
              "      <td>0</td>\n",
              "      <td>162000.00</td>\n",
              "      <td>1.3</td>\n",
              "      <td>129</td>\n",
              "      <td>1</td>\n",
              "      <td>1</td>\n",
              "      <td>7</td>\n",
              "      <td>1</td>\n",
              "    </tr>\n",
              "    <tr>\n",
              "      <th>3</th>\n",
              "      <td>50.0</td>\n",
              "      <td>1</td>\n",
              "      <td>111</td>\n",
              "      <td>0</td>\n",
              "      <td>20</td>\n",
              "      <td>0</td>\n",
              "      <td>210000.00</td>\n",
              "      <td>1.9</td>\n",
              "      <td>137</td>\n",
              "      <td>1</td>\n",
              "      <td>0</td>\n",
              "      <td>7</td>\n",
              "      <td>1</td>\n",
              "    </tr>\n",
              "    <tr>\n",
              "      <th>4</th>\n",
              "      <td>65.0</td>\n",
              "      <td>1</td>\n",
              "      <td>160</td>\n",
              "      <td>1</td>\n",
              "      <td>20</td>\n",
              "      <td>0</td>\n",
              "      <td>327000.00</td>\n",
              "      <td>2.7</td>\n",
              "      <td>116</td>\n",
              "      <td>0</td>\n",
              "      <td>0</td>\n",
              "      <td>8</td>\n",
              "      <td>1</td>\n",
              "    </tr>\n",
              "  </tbody>\n",
              "</table>\n",
              "</div>"
            ],
            "text/plain": [
              "    age  anaemia  creatinine_phosphokinase  ...  smoking  time  DEATH_EVENT\n",
              "0  75.0        0                       582  ...        0     4            1\n",
              "1  55.0        0                      7861  ...        0     6            1\n",
              "2  65.0        0                       146  ...        1     7            1\n",
              "3  50.0        1                       111  ...        0     7            1\n",
              "4  65.0        1                       160  ...        0     8            1\n",
              "\n",
              "[5 rows x 13 columns]"
            ]
          },
          "metadata": {
            "tags": []
          },
          "execution_count": 32
        }
      ]
    },
    {
      "cell_type": "code",
      "metadata": {
        "id": "SOr2ODM_07lk"
      },
      "source": [
        "#identify the X and y\n",
        "y = hf['DEATH_EVENT']\n",
        "X = hf.drop(['DEATH_EVENT'],axis =1)"
      ],
      "execution_count": 33,
      "outputs": []
    },
    {
      "cell_type": "code",
      "metadata": {
        "id": "5fVAcdp8wxfK"
      },
      "source": [
        "#split the data\n",
        "X_train, X_test, y_train, y_test = train_test_split(X,y,test_size = .3)\n",
        "\n",
        "#scale the data\n",
        "from sklearn.preprocessing import StandardScaler\n",
        "sc = StandardScaler()\n",
        "X_train_std = sc.fit_transform(X_train)\n",
        "X_test_std = sc.transform(X_test)"
      ],
      "execution_count": 34,
      "outputs": []
    },
    {
      "cell_type": "code",
      "metadata": {
        "colab": {
          "base_uri": "https://localhost:8080/"
        },
        "id": "8iNYZ48VxFQZ",
        "outputId": "cd113b78-a48a-459d-845c-87c4b6f20313"
      },
      "source": [
        "from sklearn.decomposition import PCA\n",
        "\n",
        "pca = PCA()\n",
        "X_train_pca = pca.fit_transform(X_train_std)\n",
        "pca.explained_variance_ratio_"
      ],
      "execution_count": 35,
      "outputs": [
        {
          "output_type": "execute_result",
          "data": {
            "text/plain": [
              "array([0.13954332, 0.13364326, 0.10535897, 0.10163926, 0.08562943,\n",
              "       0.07676928, 0.07485662, 0.06931906, 0.06003144, 0.05799475,\n",
              "       0.05174479, 0.04346982])"
            ]
          },
          "metadata": {
            "tags": []
          },
          "execution_count": 35
        }
      ]
    },
    {
      "cell_type": "code",
      "metadata": {
        "colab": {
          "base_uri": "https://localhost:8080/",
          "height": 279
        },
        "id": "Xg-sPQPaxH--",
        "outputId": "9a64b6c1-ee38-4db4-e1bb-a372de2a4c0b"
      },
      "source": [
        "plt.bar(range(1, 13), pca.explained_variance_ratio_, alpha=0.5, align='center')\n",
        "plt.step(range(1, 13), np.cumsum(pca.explained_variance_ratio_), where='mid')\n",
        "plt.ylabel('Explained variance ratio')\n",
        "plt.xlabel('Principal components')\n",
        "\n",
        "plt.show()"
      ],
      "execution_count": 36,
      "outputs": [
        {
          "output_type": "display_data",
          "data": {
            "image/png": "[encoded data removed]",
            "text/plain": [
              "<Figure size 432x288 with 1 Axes>"
            ]
          },
          "metadata": {
            "tags": [],
            "needs_background": "light"
          }
        }
      ]
    },
    {
      "cell_type": "markdown",
      "metadata": {
        "id": "pckxMhR9c1UZ"
      },
      "source": [
        "Shows difference between score and accuracy for logistic regression [here](https://stats.stackexchange.com/a/354710)."
      ]
    },
    {
      "cell_type": "code",
      "metadata": {
        "id": "Du8s1OMrxPks"
      },
      "source": [
        "#note that scores function is the accuracy of training data while accuracy function is for testing data\n",
        "\n",
        "from sklearn.linear_model import LogisticRegression\n",
        "import warnings\n",
        "\n",
        "warnings.filterwarnings(\"ignore\")\n",
        "scores_regular =[]\n",
        "accuracy_regular =[]\n",
        "pca_scores = []\n",
        "pca_accuracy = []\n",
        "\n",
        "#get the accuracy without PCA for training and test data\n",
        "lr = LogisticRegression(multi_class='ovr', random_state=1, solver='lbfgs')\n",
        "lr = lr.fit(X_train, y_train)\n",
        "scores_regular.append(lr.score(X_train, y_train))\n",
        "accuracy_regular.append(accuracy_score(y_test, lr.predict(X_test)))\n",
        "\n",
        "#get the accuracy with PCA for training and test data\n",
        "for i in range(6,10):\n",
        "  pca = PCA(n_components=i)\n",
        "  X_train_pca = pca.fit_transform(X_train_std)\n",
        "  X_test_pca = pca.transform(X_test_std)\n",
        "\n",
        "  lr = LogisticRegression(multi_class='ovr', random_state=1, solver='lbfgs')\n",
        "  lr = lr.fit(X_train_pca, y_train)\n",
        "  pca_scores.append(lr.score(X_train_pca, y_train))\n",
        "  pca_accuracy.append(accuracy_score(y_test, lr.predict(X_test_pca)))"
      ],
      "execution_count": 37,
      "outputs": []
    },
    {
      "cell_type": "code",
      "metadata": {
        "colab": {
          "base_uri": "https://localhost:8080/"
        },
        "id": "I6uXe4HOcpwP",
        "outputId": "f44d62aa-fb41-465a-f462-81746071b194"
      },
      "source": [
        "#print scores\n",
        "import seaborn as sns\n",
        "\n",
        "#average scores\n",
        "print(\"mean scores_regular: {}\\nmean accuracy_regular: {}\".format(np.mean(scores_regular), np.mean(accuracy_regular)))\n",
        "print(\"mean pca_scores: {}\\nmean pca_accuracy: {}\".format(np.mean(pca_scores), np.mean(pca_accuracy)))\n",
        "\n",
        "print(\"\\nAccuracy without PCA\", accuracy_regular)\n",
        "print(\"\\nAccuracy with PCA\", pca_accuracy)\n",
        "\n",
        "# fig, subplots = plt.subplots(1,4, figsize=(12, 4))\n",
        "# sns.distplot(scores_regular, kde=False, ax=subplots[0]) \n",
        "# subplots[0].set_title(\"Scores Regular for Training\")\n",
        "# sns.distplot(accuracy_regular, kde=False, ax=subplots[1]) \n",
        "# subplots[1].set_title(\"Accuracies for Regular Testing\")\n",
        "# sns.distplot(pca_scores, kde=False, ax=subplots[2]) \n",
        "# subplots[2].set_title(\"PCA Scores for Training\")\n",
        "# sns.distplot(pca_accuracy, kde=False, ax=subplots[3]) \n",
        "# subplots[3].set_title(\"PCA Scores for Testing\")\n",
        "# plt.show()\n",
        "# fig.show()"
      ],
      "execution_count": 38,
      "outputs": [
        {
          "output_type": "stream",
          "text": [
            "mean scores_regular: 0.8277511961722488\n",
            "mean accuracy_regular: 0.8333333333333334\n",
            "mean pca_scores: 0.832535885167464\n",
            "mean pca_accuracy: 0.8333333333333334\n",
            "\n",
            "Accuracy without PCA [0.8333333333333334]\n",
            "\n",
            "Accuracy with PCA [0.8444444444444444, 0.8333333333333334, 0.8222222222222222, 0.8333333333333334]\n"
          ],
          "name": "stdout"
        }
      ]
    }
  ]
}