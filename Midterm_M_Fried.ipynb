{
  "nbformat": 4,
  "nbformat_minor": 0,
  "metadata": {
    "kernelspec": {
      "display_name": "Python 3",
      "language": "python",
      "name": "python3"
    },
    "language_info": {
      "codemirror_mode": {
        "name": "ipython",
        "version": 3
      },
      "file_extension": ".py",
      "mimetype": "text/x-python",
      "name": "python",
      "nbconvert_exporter": "python",
      "pygments_lexer": "ipython3",
      "version": "3.6.3"
    },
    "colab": {
      "name": "Midterm_M_Fried.ipynb",
      "provenance": []
    }
  },
  "cells": [
    {
      "cell_type": "markdown",
      "metadata": {
        "id": "ZkUdrgVrejP6"
      },
      "source": [
        "# Midterm project\n",
        "\n",
        "Congratulations! You've been hired as a data scientist at the hottest new social media startup.\n",
        "\n",
        "Your company produces an app via which users can post short videos for anyone to view. They can also like, repost, and comment on the videos they view. The key data product is a recommendation engine that determines the order in which videos are shown to a user.\n",
        "\n",
        "The recommendation engine has a parameter, *theta*, that affects the ordering of the videos. Recently the team of engineers that works on the recommendation engine ran it with different settings of *theta* and, for each setting, measured the amount of time users spent on the app. They have collected these measurements into a data set of 20 samples of (*theta*, *time_spent*) pairs.\n",
        "\n",
        "Additionally, they have identified two auxiliary features (*aux1* and *aux2*) that they hypoithesize should correlate with *time_spent*. These two features are measures of time spent by users in the recent past. The engineers have not verified that the features explain *time_spent*.\n",
        "\n",
        "(The engineers call these two features \"auxiliary\" because, while they might help explain *time_spent*, the engineers' ultimate interest lies in the dependence of *time_spent* on *theta*.)\n",
        "\n",
        "Your first project at your new company is to tell the engineers which setting you this they should use for *theta*, based on the data."
      ]
    },
    {
      "cell_type": "markdown",
      "metadata": {
        "id": "Ky7JwGAnejP8"
      },
      "source": [
        "## 1. Prepare the data\n",
        "- Inspect the data. Identifiy and remove any suspicious or unusable samples.\n",
        "- Put the samples in a data structure that you can work with."
      ]
    },
    {
      "cell_type": "code",
      "metadata": {
        "id": "qjEnrMTkoODF"
      },
      "source": [
        "import pandas as pd\n",
        "import matplotlib.pyplot as plt\n",
        "from scipy import stats\n",
        "import numpy as np\n",
        "from sklearn.linear_model import LinearRegression\n",
        "from scipy.stats import t"
      ],
      "execution_count": null,
      "outputs": []
    },
    {
      "cell_type": "markdown",
      "metadata": {
        "id": "gI0cm8dtoWsy"
      },
      "source": [
        "We see that time_spent has a negative number, which doesn't make sense.  We turn it to positive before starting our analysis.  We also see that aux2 has some values which are significantly larger and smaller than the rest, however, since this is certainly possible, given a normal distribution, we don't change the data."
      ]
    },
    {
      "cell_type": "code",
      "metadata": {
        "id": "SE_yAvIKejP9"
      },
      "source": [
        "theta = [0.03906292, 0.05119367, 0.06004468, 0.06790036, 0.19152079,\n",
        "       0.28298816, 0.294665  , 0.3578136 , 0.48352862, 0.53058676,\n",
        "       0.55175137, 0.57560289, 0.59751325, 0.6375209 , 0.65241862,\n",
        "       0.65633352, 0.78698546, 0.8640421 , 0.87729053, 0.94568319]\n",
        "aux1 = [ 0.53983961, -1.77528229,  1.31487654, -0.47344805, -1.0922299 ,\n",
        "       -0.25002744, -0.9822943 ,  1.03126909,  0.49133378, -0.4466466 ,\n",
        "       -0.80636008,  0.13126776, -1.21256024,  0.15999085, -0.75522304,\n",
        "        0.34989599,  0.97754176, -0.13858525,  0.10385631,  0.30059104]\n",
        "aux2 = [ 0.9682053 ,  0.86962384,  0.56778309,  0.46528234, -1.16537308,\n",
        "       -2.03599479, -1.15541329,  3.34515739,  0.12672721, -0.6941789 ,\n",
        "        0.55767443,  0.0991466 ,  0.63792617,  0.70311068, -0.91609315,\n",
        "       -0.78601423,  1.1191818 , -0.98339611,  0.24452002, -0.58140974]\n",
        "time_spent = [10.79768391, 10.87648065, 10.29274937, 10.78756647,  9.51844772,\n",
        "        9.18078781,  9.90063639, 12.84823357, 10.92743478,  9.88927608,\n",
        "       11.3373709 , 11.43996915, 11.88392171, 11.88135476, 11.73452467,\n",
        "       11.18844425, 12.19144316, 11.35294826, 12.2385441 , 11.98428985]"
      ],
      "execution_count": null,
      "outputs": []
    },
    {
      "cell_type": "markdown",
      "metadata": {
        "id": "EOjv3Df1ejP9"
      },
      "source": [
        "## 2. Build a model  \n",
        "\n",
        "Write functions to run a regression, calculate the regression statistics listed below, and print a report.\n",
        "- B (regressor coefficients plus one for an intercept, if appropriate)\n",
        "- R2\n",
        "- RSS\n",
        "- RegSS\n",
        "- TSS\n",
        "- t statistic for each regressor coefficient\n",
        "\n",
        "I found it useful to decompose the problem into three functions: `regress_calc()`, `regress_tstat()`, and `regress_report()`. You may write it however you see fit.  \n",
        "\n",
        "You may include either, both, or neither of *aux1* and *aux2* in your final model. Experiment. What works best? Justify your decision."
      ]
    },
    {
      "cell_type": "markdown",
      "metadata": {
        "id": "Dv8W0srDo9gY"
      },
      "source": [
        "We use stats.linregress to get the basic stats and the chart to view the data"
      ]
    },
    {
      "cell_type": "markdown",
      "metadata": {
        "id": "blpQZN23UvRM"
      },
      "source": [
        "Here is what we will get from stats.lineregress (info from scipy.org):\n",
        "\n",
        "The return value is an object with the following attributes:\n",
        "\n",
        "* slopefloat : Slope of the regression line.\n",
        "* interceptfloat: Intercept of the regression line.\n",
        "* rvaluefloat: Correlation coefficient.\n",
        "* pvaluefloat: Two-sided p-value for a hypothesis test whose null hypothesis is that the slope is zero, using Wald Test with t-distribution of the test statistic.\n",
        "* stderrfloat: Standard error of the estimated slope (gradient), under the assumption of residual normality.\n",
        "\n",
        "We also create a function called individual_stats which is based off of [here](https://stackoverflow.com/a/42677750)."
      ]
    },
    {
      "cell_type": "code",
      "metadata": {
        "id": "WLoD1AxCA2oK"
      },
      "source": [
        "def individual_stats(x,y):\n",
        "  X = x.reshape(-1,1)\n",
        "  y = y.reshape(-1,1)\n",
        "\n",
        "  lm = LinearRegression()\n",
        "  lm.fit(X,y)\n",
        "  params = np.append(lm.intercept_,lm.coef_)\n",
        "  predictions = lm.predict(X)\n",
        "\n",
        "  #for data frame\n",
        "  #newX = pd.DataFrame({\"Constant\":np.ones(len(X))}).join(pd.DataFrame(X))\n",
        "  #MSE = (sum((y-predictions)**2))/(len(newX)-len(newX.columns))\n",
        "\n",
        "  newX = np.append(np.ones((len(X),1)), X, axis=1)\n",
        "  MSE = (sum((y-predictions)**2))/(len(newX)-len(newX[0]))\n",
        "\n",
        "  var_b = MSE*(np.linalg.inv(np.dot(newX.T,newX)).diagonal())\n",
        "  sd_b = np.sqrt(var_b)\n",
        "  ts_b = params/ sd_b\n",
        "\n",
        "  p_values =[2*(1-stats.t.cdf(np.abs(i),(len(newX)-len(newX[0])))) for i in ts_b]\n",
        "\n",
        "  sd_b = np.round(sd_b,3)\n",
        "  ts_b = np.round(ts_b,3)\n",
        "  p_values = np.round(p_values,3)\n",
        "  params = np.round(params,4)\n",
        "\n",
        "  myDF3 = pd.DataFrame()\n",
        "  myDF3[\"Coefficients\"],myDF3[\"Standard Errors\"],myDF3[\"t values\"],myDF3[\"Probabilities\"] = [params,sd_b,ts_b,p_values]\n",
        "  print(myDF3)"
      ],
      "execution_count": null,
      "outputs": []
    },
    {
      "cell_type": "code",
      "metadata": {
        "id": "jAK7F9Ceo0L9"
      },
      "source": [
        "x = np.array(theta)\n",
        "y = np.array(time_spent)\n",
        "\n",
        "def run_all(x,y): \n",
        "  #use stats library to get all the info\n",
        "  slope, intercept, r, p, std_err_a = stats.linregress(x, y)\n",
        "\n",
        "  #get the prediction\n",
        "  z = slope*x+intercept\n",
        "\n",
        "  #get the stats\n",
        "  TSS = ((y-y.mean())**2).sum()\n",
        "  RSS = ((y-z)**2).sum()\n",
        "  r2 = 1 - (RSS/TSS)\n",
        "  RegRSS = TSS - RSS\n",
        "\n",
        "  print(\"slope:\\t\\t\",slope, \"\\nintercept:\\t\", intercept,\"\\nr:\\t\\t\",r,\"\\nstd_err:\\t\", std_err_a )\n",
        "  print(\"TSS:\\t\\t\",TSS,\"\\nRSS:\\t\\t\",RSS,\"\\nr2:\\t\\t\",r2,\"\\nRegRSS:\\t\\t\",RegRSS)\n",
        "  \n",
        "  print()\n",
        "  individual_stats(x,y)\n",
        "  print()\n",
        "  \n",
        "  plt.scatter(x, y)\n",
        "  plt.plot(x, z)\n",
        "  plt.show()"
      ],
      "execution_count": null,
      "outputs": []
    },
    {
      "cell_type": "code",
      "metadata": {
        "colab": {
          "base_uri": "https://localhost:8080/",
          "height": 493
        },
        "id": "umh_GEf_CGDL",
        "outputId": "8cad7a13-c6af-4667-dd77-c8073dc41324"
      },
      "source": [
        "run_all(x,y)"
      ],
      "execution_count": null,
      "outputs": [
        {
          "output_type": "stream",
          "text": [
            "slope:\t\t 1.9442273815396436 \n",
            "intercept:\t 10.188665132109321 \n",
            "r:\t\t 0.5814437446870533 \n",
            "std_err:\t 0.6412197527774525\n",
            "TSS:\t\t 18.20345280971413 \n",
            "RSS:\t\t 12.04928722086768 \n",
            "r2:\t\t 0.33807682823570306 \n",
            "RegRSS:\t\t 6.15416558884645\n",
            "\n",
            "   Coefficients  Standard Errors  t values  Probabilities\n",
            "0       10.1887            0.355    28.666          0.000\n",
            "1        1.9442            0.641     3.032          0.007\n",
            "\n"
          ],
          "name": "stdout"
        },
        {
          "output_type": "display_data",
          "data": {
            "image/png": "[encoded data removed]",
            "text/plain": [
              "<Figure size 432x288 with 1 Axes>"
            ]
          },
          "metadata": {
            "tags": [],
            "needs_background": "light"
          }
        }
      ]
    },
    {
      "cell_type": "markdown",
      "metadata": {
        "id": "_3lV7iZ_jvCD"
      },
      "source": [
        "Above we have the slope as B and the intercept as A (from our model).  The r is .37, which shows that a linear regression is perhaps not the best model since the r is relatively low. \n",
        "\n",
        "**Important Note:** We have returned the standard error of the gradient, as such we need to convert it via SEG = SEE / sqrt( sum of (X - average X)**2 )"
      ]
    },
    {
      "cell_type": "code",
      "metadata": {
        "colab": {
          "base_uri": "https://localhost:8080/"
        },
        "id": "0cEBrFeLpntr",
        "outputId": "0e40a873-9b87-431e-e625-f7c46bc04c2b"
      },
      "source": [
        "#getting the SEE\n",
        "a = x-x.mean()\n",
        "b = a**2\n",
        "c = b.sum()\n",
        "see = std_err_a*np.sqrt(c)\n",
        "see"
      ],
      "execution_count": null,
      "outputs": [
        {
          "output_type": "execute_result",
          "data": {
            "text/plain": [
              "0.818171648007776"
            ]
          },
          "metadata": {
            "tags": []
          },
          "execution_count": 37
        }
      ]
    },
    {
      "cell_type": "markdown",
      "metadata": {
        "id": "VOV7N6pLtq6j"
      },
      "source": [
        "Below we do it the same way as in class. And we note that the slope and intercept match.  Such that: A = intercept and B = slope."
      ]
    },
    {
      "cell_type": "code",
      "metadata": {
        "colab": {
          "base_uri": "https://localhost:8080/",
          "height": 320
        },
        "id": "Y3FqbWPtp0cf",
        "outputId": "1ef687b4-c5d2-4110-cbfc-4e4cbaf7c578"
      },
      "source": [
        "x = np.array(theta)\n",
        "y = np.array(time_spent)\n",
        "\n",
        "ym = y-y.mean()\n",
        "xm = x-x.mean()\n",
        "beta = (xm*ym).sum()/(xm**2).sum()\n",
        "alpha = y.mean()-beta*x.mean()\n",
        "\n",
        "#printing the alpha and beta\n",
        "print(\"alpha:\\t\", alpha,\"\\nbeta:\\t\",beta)\n",
        "print()\n",
        "\n",
        "reg = beta*x+alpha\n",
        "plt.scatter(x, y)\n",
        "plt.plot(x, reg)\n",
        "plt.show()"
      ],
      "execution_count": null,
      "outputs": [
        {
          "output_type": "stream",
          "text": [
            "alpha:\t 10.188665132109321 \n",
            "beta:\t 1.9442273815396434\n",
            "\n"
          ],
          "name": "stdout"
        },
        {
          "output_type": "display_data",
          "data": {
            "image/png": "[encoded data removed]",
            "text/plain": [
              "<Figure size 432x288 with 1 Axes>"
            ]
          },
          "metadata": {
            "tags": [],
            "needs_background": "light"
          }
        }
      ]
    },
    {
      "cell_type": "markdown",
      "metadata": {
        "id": "T07-0opqlzWN"
      },
      "source": [
        "Here I find the error step by step. I use the book formula which is E = Y - Y(bar).  I then do SE = sqrt(sum(error^2)/n-2).  I will later confirm my findinds using the OLS statsmodel."
      ]
    },
    {
      "cell_type": "code",
      "metadata": {
        "colab": {
          "base_uri": "https://localhost:8080/"
        },
        "id": "zRwOTUSpqb50",
        "outputId": "e999f1c9-ab9d-4827-cf58-4a6c18ce82d7"
      },
      "source": [
        "#find the error step by step\n",
        "\n",
        "err = y-(reg)\n",
        "sq_err = err**2\n",
        "sum_err = sq_err.sum()\n",
        "standard_error = np.sqrt(sum_err/18)\n",
        "standard_error"
      ],
      "execution_count": null,
      "outputs": [
        {
          "output_type": "execute_result",
          "data": {
            "text/plain": [
              "0.818171648007776"
            ]
          },
          "metadata": {
            "tags": []
          },
          "execution_count": 41
        }
      ]
    },
    {
      "cell_type": "markdown",
      "metadata": {
        "id": "qmj0Mi0nqfoU"
      },
      "source": [
        "Testing the sm.OLS. Please note that when using the OLS statsmodel we need to add a constant column."
      ]
    },
    {
      "cell_type": "code",
      "metadata": {
        "colab": {
          "base_uri": "https://localhost:8080/"
        },
        "id": "RHEuTRNkqePI",
        "outputId": "97a254f8-4f65-4f7f-c389-e359d6d5e25b"
      },
      "source": [
        "import statsmodels.api as sm\n",
        "x = np.array(theta)\n",
        "y = np.array(time_spent)\n",
        "\n",
        "x = sm.add_constant(x) # intercept\n",
        "model = sm.OLS(y,x)\n",
        "results = model.fit()\n",
        "print(\"Standard error: \", np.sqrt(results.mse_resid))\n",
        "print(results.summary())"
      ],
      "execution_count": null,
      "outputs": [
        {
          "output_type": "stream",
          "text": [
            "Standard error:  0.818171648007776\n",
            "                            OLS Regression Results                            \n",
            "==============================================================================\n",
            "Dep. Variable:                      y   R-squared:                       0.338\n",
            "Model:                            OLS   Adj. R-squared:                  0.301\n",
            "Method:                 Least Squares   F-statistic:                     9.193\n",
            "Date:                Wed, 30 Jun 2021   Prob (F-statistic):            0.00717\n",
            "Time:                        02:48:28   Log-Likelihood:                -23.312\n",
            "No. Observations:                  20   AIC:                             50.62\n",
            "Df Residuals:                      18   BIC:                             52.61\n",
            "Df Model:                           1                                         \n",
            "Covariance Type:            nonrobust                                         \n",
            "==============================================================================\n",
            "                 coef    std err          t      P>|t|      [0.025      0.975]\n",
            "------------------------------------------------------------------------------\n",
            "const         10.1887      0.355     28.666      0.000       9.442      10.935\n",
            "x1             1.9442      0.641      3.032      0.007       0.597       3.291\n",
            "==============================================================================\n",
            "Omnibus:                        1.513   Durbin-Watson:                   1.866\n",
            "Prob(Omnibus):                  0.469   Jarque-Bera (JB):                0.309\n",
            "Skew:                           0.039   Prob(JB):                        0.857\n",
            "Kurtosis:                       3.603   Cond. No.                         4.35\n",
            "==============================================================================\n",
            "\n",
            "Warnings:\n",
            "[1] Standard Errors assume that the covariance matrix of the errors is correctly specified.\n"
          ],
          "name": "stdout"
        }
      ]
    },
    {
      "cell_type": "markdown",
      "metadata": {
        "id": "v1uORTAwejP-"
      },
      "source": [
        "## 3. Propose a setting for *theta*\n",
        "\n",
        "Now that you have a model built, you should be able to plot estimated *time_spent* vs. *theta* over a reasonable range of *theta*.  By inspecting that plot -- and knowning that the company wants to maximize the time users spend on the app -- which value of *theta* would you propose the engineers use? Explain how the data and your model support your decision.\n",
        "\n",
        "The engineer's have capacity to take another set of measurements. Which settings of *theta* do you suggest they measure? Why?\n"
      ]
    },
    {
      "cell_type": "markdown",
      "metadata": {
        "id": "rwY8cj2MLK4T"
      },
      "source": [
        "### Solution\n",
        "\n",
        "From the charts displayed above I think that a theta of .6 is a good choice. It is in a cluster of many datapoints, and seems to determine a fair amount of information.  \n",
        "\n",
        "I don't see any particular other measure of theta that is necessary, since theta can be used in the regression, and interpolation and extrapolation can lead us do understand every context.  I would only suggest getting more than 20 samples in order to better be able to approximate a solution."
      ]
    },
    {
      "cell_type": "markdown",
      "metadata": {
        "id": "8urwMTBaejP-"
      },
      "source": [
        "## 4. Experiment or observation?\n",
        "\n",
        "Is this data set experimental or observational? Explain clearly. Consider how the effect of *theta* on *time_spent* differs from the effect of *aux1* or *aux2*."
      ]
    },
    {
      "cell_type": "markdown",
      "metadata": {
        "id": "BbEThgtOMGvF"
      },
      "source": [
        "### Solution\n",
        "\n",
        "We test aux1 and aux2 below.  Neither variables seems to be a very good predictor of here.  We see the spread is quite large and there is not much in terms of correlation.  It is not seem that any of the statistics show any compelling reason to choose them.  Also, we note that the data we have is likely observational and not experimental, which, given the opportunity, we should really look for a larger sample size than 20. "
      ]
    },
    {
      "cell_type": "code",
      "metadata": {
        "colab": {
          "base_uri": "https://localhost:8080/",
          "height": 491
        },
        "id": "BMukbSPVL7Pi",
        "outputId": "813649ad-ba6e-46e2-c9a6-9873c04acf69"
      },
      "source": [
        "x = np.array(theta)\n",
        "y = np.array(aux1)\n",
        "\n",
        "run_all(x,y)"
      ],
      "execution_count": null,
      "outputs": [
        {
          "output_type": "stream",
          "text": [
            "slope:\t\t 0.4610118375566009 \n",
            "intercept:\t -0.3456928377606051 \n",
            "r:\t\t 0.16485223826342088 \n",
            "std_err:\t 0.650126780840359\n",
            "TSS:\t\t 12.732378043337649 \n",
            "RSS:\t\t 12.386359621350866 \n",
            "r2:\t\t 0.027176260460459734 \n",
            "RegRSS:\t\t 0.34601842198678234\n",
            "\n",
            "   Coefficients  Standard Errors  t values  Probabilities\n",
            "0       -0.3457             0.36    -0.959          0.350\n",
            "1        0.4610             0.65     0.709          0.487\n",
            "\n"
          ],
          "name": "stdout"
        },
        {
          "output_type": "display_data",
          "data": {
            "image/png": "[encoded data removed]",
            "text/plain": [
              "<Figure size 432x288 with 1 Axes>"
            ]
          },
          "metadata": {
            "tags": [],
            "needs_background": "light"
          }
        }
      ]
    },
    {
      "cell_type": "code",
      "metadata": {
        "colab": {
          "base_uri": "https://localhost:8080/",
          "height": 491
        },
        "id": "dcxD4DZwMLDd",
        "outputId": "c3bd2143-387a-47a9-a7b7-666d49b4f616"
      },
      "source": [
        "x = np.array(theta)\n",
        "y = np.array(aux2)\n",
        "\n",
        "run_all(x,y)"
      ],
      "execution_count": null,
      "outputs": [
        {
          "output_type": "stream",
          "text": [
            "slope:\t\t -0.6046288771717166 \n",
            "intercept:\t 0.3566564164462237 \n",
            "r:\t\t -0.15141842930685562 \n",
            "std_err:\t 0.9303305488179595\n",
            "TSS:\t\t 25.95944265572946 \n",
            "RSS:\t\t 25.364256476814635 \n",
            "r2:\t\t 0.02292754073375547 \n",
            "RegRSS:\t\t 0.5951861789148261\n",
            "\n",
            "   Coefficients  Standard Errors  t values  Probabilities\n",
            "0        0.3567            0.516     0.692          0.498\n",
            "1       -0.6046            0.930    -0.650          0.524\n",
            "\n"
          ],
          "name": "stdout"
        },
        {
          "output_type": "display_data",
          "data": {
            "image/png": "[encoded data removed]",
            "text/plain": [
              "<Figure size 432x288 with 1 Axes>"
            ]
          },
          "metadata": {
            "tags": [],
            "needs_background": "light"
          }
        }
      ]
    }
  ]
}